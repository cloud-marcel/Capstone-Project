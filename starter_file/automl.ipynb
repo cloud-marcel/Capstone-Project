{
 "cells": [
  {
   "cell_type": "markdown",
   "metadata": {},
   "source": [
    "# Automated ML\n",
    "\n",
    "TODO: Import Dependencies. In the cell below, import all the dependencies that you will need to complete the project."
   ]
  },
  {
   "cell_type": "code",
   "execution_count": 1,
   "metadata": {
    "gather": {
     "logged": 1598423888013
    },
    "jupyter": {
     "outputs_hidden": false,
     "source_hidden": false
    },
    "nteract": {
     "transient": {
      "deleting": false
     }
    }
   },
   "outputs": [],
   "source": [
    "from azureml.core import Workspace, Experiment, Model\n",
    "from azureml.core.compute import ComputeTarget, AmlCompute\n",
    "from azureml.data.dataset_factory import TabularDatasetFactory\n",
    "from azureml.core.compute_target import ComputeTargetException\n",
    "from azureml.widgets import RunDetails\n",
    "from sklearn.model_selection import train_test_split\n",
    "from azureml.train.automl import AutoMLConfig\n",
    "from azureml.widgets import RunDetails\n",
    "from azureml.core.dataset import Dataset\n",
    "import joblib\n",
    "from azureml.core.environment import Environment\n",
    "from azureml.core.model import InferenceConfig\n",
    "from azureml.core.webservice import LocalWebservice, AciWebservice\n",
    "import json\n",
    "import numpy as np\n",
    "from azureml.automl.core.shared import constants\n",
    "import requests"
   ]
  },
  {
   "cell_type": "markdown",
   "metadata": {},
   "source": [
    "## Dataset\n",
    "\n",
    "### Overview\n",
    "TODO: In this markdown cell, give an overview of the dataset you are using. Also mention the task you will be performing.\n",
    "\n",
    "\n",
    "TODO: Get data. In the cell below, write code to access the data you will be using in this project. Remember that the dataset needs to be external."
   ]
  },
  {
   "cell_type": "code",
   "execution_count": 2,
   "metadata": {
    "gather": {
     "logged": 1598423890461
    },
    "jupyter": {
     "outputs_hidden": false,
     "source_hidden": false
    },
    "nteract": {
     "transient": {
      "deleting": false
     }
    }
   },
   "outputs": [
    {
     "name": "stdout",
     "output_type": "stream",
     "text": [
      "Workspace name: quick-starts-ws-225458\n",
      "Azure region: southcentralus\n",
      "Subscription id: cdbe0b43-92a0-4715-838a-f2648cc7ad21\n",
      "Resource group: aml-quickstarts-225458\n"
     ]
    }
   ],
   "source": [
    "# Workspace and Experiment\n",
    "ws = Workspace.from_config()\n",
    "\n",
    "experiment_name = 'automl_experiment'\n",
    "experiment=Experiment(ws, experiment_name)\n",
    "\n",
    "print('Workspace name: ' + ws.name, \n",
    "      'Azure region: ' + ws.location, \n",
    "      'Subscription id: ' + ws.subscription_id, \n",
    "      'Resource group: ' + ws.resource_group, sep = '\\n')"
   ]
  },
  {
   "cell_type": "code",
   "execution_count": 3,
   "metadata": {},
   "outputs": [
    {
     "name": "stdout",
     "output_type": "stream",
     "text": [
      "Found existing cluster, use it.\n",
      "Succeeded....\n",
      "AmlCompute wait for completion finished\n",
      "\n",
      "Minimum number of nodes requested have been provisioned\n"
     ]
    }
   ],
   "source": [
    "# Creating Compute Cluster\n",
    "cluster_name = \"automl-cluster\"\n",
    "\n",
    "try:\n",
    "    compute_cluster = ComputeTarget(workspace=ws, name=cluster_name)\n",
    "    print('Found existing cluster, use it.')\n",
    "\n",
    "except ComputeTargetException:\n",
    "    compute_config = AmlCompute.provisioning_configuration(\n",
    "        vm_size='Standard_D2_V2', \n",
    "        max_nodes=4\n",
    "    )\n",
    "\n",
    "    compute_cluster = ComputeTarget.create(ws, cluster_name, compute_config)\n",
    "\n",
    "compute_cluster.wait_for_completion(show_output=True)"
   ]
  },
  {
   "cell_type": "code",
   "execution_count": 4,
   "metadata": {},
   "outputs": [
    {
     "data": {
      "text/html": [
       "<div>\n",
       "<style scoped>\n",
       "    .dataframe tbody tr th:only-of-type {\n",
       "        vertical-align: middle;\n",
       "    }\n",
       "\n",
       "    .dataframe tbody tr th {\n",
       "        vertical-align: top;\n",
       "    }\n",
       "\n",
       "    .dataframe thead th {\n",
       "        text-align: right;\n",
       "    }\n",
       "</style>\n",
       "<table border=\"1\" class=\"dataframe\">\n",
       "  <thead>\n",
       "    <tr style=\"text-align: right;\">\n",
       "      <th></th>\n",
       "      <th>age</th>\n",
       "      <th>anaemia</th>\n",
       "      <th>creatinine_phosphokinase</th>\n",
       "      <th>diabetes</th>\n",
       "      <th>ejection_fraction</th>\n",
       "      <th>high_blood_pressure</th>\n",
       "      <th>platelets</th>\n",
       "      <th>serum_creatinine</th>\n",
       "      <th>serum_sodium</th>\n",
       "      <th>sex</th>\n",
       "      <th>smoking</th>\n",
       "      <th>time</th>\n",
       "      <th>DEATH_EVENT</th>\n",
       "    </tr>\n",
       "  </thead>\n",
       "  <tbody>\n",
       "    <tr>\n",
       "      <th>0</th>\n",
       "      <td>75.0</td>\n",
       "      <td>0</td>\n",
       "      <td>582</td>\n",
       "      <td>0</td>\n",
       "      <td>20</td>\n",
       "      <td>1</td>\n",
       "      <td>265000.00</td>\n",
       "      <td>1.9</td>\n",
       "      <td>130</td>\n",
       "      <td>1</td>\n",
       "      <td>0</td>\n",
       "      <td>4</td>\n",
       "      <td>1</td>\n",
       "    </tr>\n",
       "    <tr>\n",
       "      <th>1</th>\n",
       "      <td>55.0</td>\n",
       "      <td>0</td>\n",
       "      <td>7861</td>\n",
       "      <td>0</td>\n",
       "      <td>38</td>\n",
       "      <td>0</td>\n",
       "      <td>263358.03</td>\n",
       "      <td>1.1</td>\n",
       "      <td>136</td>\n",
       "      <td>1</td>\n",
       "      <td>0</td>\n",
       "      <td>6</td>\n",
       "      <td>1</td>\n",
       "    </tr>\n",
       "    <tr>\n",
       "      <th>2</th>\n",
       "      <td>65.0</td>\n",
       "      <td>0</td>\n",
       "      <td>146</td>\n",
       "      <td>0</td>\n",
       "      <td>20</td>\n",
       "      <td>0</td>\n",
       "      <td>162000.00</td>\n",
       "      <td>1.3</td>\n",
       "      <td>129</td>\n",
       "      <td>1</td>\n",
       "      <td>1</td>\n",
       "      <td>7</td>\n",
       "      <td>1</td>\n",
       "    </tr>\n",
       "    <tr>\n",
       "      <th>3</th>\n",
       "      <td>50.0</td>\n",
       "      <td>1</td>\n",
       "      <td>111</td>\n",
       "      <td>0</td>\n",
       "      <td>20</td>\n",
       "      <td>0</td>\n",
       "      <td>210000.00</td>\n",
       "      <td>1.9</td>\n",
       "      <td>137</td>\n",
       "      <td>1</td>\n",
       "      <td>0</td>\n",
       "      <td>7</td>\n",
       "      <td>1</td>\n",
       "    </tr>\n",
       "    <tr>\n",
       "      <th>4</th>\n",
       "      <td>65.0</td>\n",
       "      <td>1</td>\n",
       "      <td>160</td>\n",
       "      <td>1</td>\n",
       "      <td>20</td>\n",
       "      <td>0</td>\n",
       "      <td>327000.00</td>\n",
       "      <td>2.7</td>\n",
       "      <td>116</td>\n",
       "      <td>0</td>\n",
       "      <td>0</td>\n",
       "      <td>8</td>\n",
       "      <td>1</td>\n",
       "    </tr>\n",
       "  </tbody>\n",
       "</table>\n",
       "</div>"
      ],
      "text/plain": [
       "    age  anaemia  creatinine_phosphokinase  diabetes  ejection_fraction  \\\n",
       "0  75.0        0                       582         0                 20   \n",
       "1  55.0        0                      7861         0                 38   \n",
       "2  65.0        0                       146         0                 20   \n",
       "3  50.0        1                       111         0                 20   \n",
       "4  65.0        1                       160         1                 20   \n",
       "\n",
       "   high_blood_pressure  platelets  serum_creatinine  serum_sodium  sex  \\\n",
       "0                    1  265000.00               1.9           130    1   \n",
       "1                    0  263358.03               1.1           136    1   \n",
       "2                    0  162000.00               1.3           129    1   \n",
       "3                    0  210000.00               1.9           137    1   \n",
       "4                    0  327000.00               2.7           116    0   \n",
       "\n",
       "   smoking  time  DEATH_EVENT  \n",
       "0        0     4            1  \n",
       "1        0     6            1  \n",
       "2        1     7            1  \n",
       "3        0     7            1  \n",
       "4        0     8            1  "
      ]
     },
     "execution_count": 4,
     "metadata": {},
     "output_type": "execute_result"
    }
   ],
   "source": [
    "# Adding dataset from workspace\n",
    "dataset = Dataset.get_by_name(ws, name='Heart_Failure_Clinical_Records_Dataset')\n",
    "Heart_Failure_Clinical_Records_Dataset = dataset.to_pandas_dataframe()\n",
    "\n",
    "Heart_Failure_Clinical_Records_Dataset.head()"
   ]
  },
  {
   "cell_type": "markdown",
   "metadata": {},
   "source": [
    "## AutoML Configuration\n",
    "\n",
    "TODO: Explain why you chose the automl settings and cofiguration you used below."
   ]
  },
  {
   "cell_type": "code",
   "execution_count": 6,
   "metadata": {
    "gather": {
     "logged": 1598429217746
    },
    "jupyter": {
     "outputs_hidden": false,
     "source_hidden": false
    },
    "nteract": {
     "transient": {
      "deleting": false
     }
    }
   },
   "outputs": [],
   "source": [
    "# AutoML settings in JSON format\n",
    "automl_settings = {\n",
    "    \"experiment_timeout_minutes\":25,\n",
    "    \"task\":'classification',\n",
    "    \"primary_metric\":'accuracy',\n",
    "    \"training_data\":dataset,\n",
    "    \"label_column_name\":'DEATH_EVENT',\n",
    "    \"n_cross_validations\":4,\n",
    "    \"max_concurrent_iterations\": 4,\n",
    "    \"featurization\": 'auto'\n",
    "}\n",
    "\n",
    "# AutoML config passing the settings and the compute resource\n",
    "automl_config = AutoMLConfig(\n",
    "    compute_target=compute_cluster,\n",
    "    **automl_settings\n",
    ")"
   ]
  },
  {
   "cell_type": "code",
   "execution_count": 7,
   "metadata": {
    "gather": {
     "logged": 1598431107951
    },
    "jupyter": {
     "outputs_hidden": false,
     "source_hidden": false
    },
    "nteract": {
     "transient": {
      "deleting": false
     }
    }
   },
   "outputs": [
    {
     "name": "stdout",
     "output_type": "stream",
     "text": [
      "Submitting remote run.\n"
     ]
    },
    {
     "data": {
      "text/html": [
       "<table style=\"width:100%\"><tr><th>Experiment</th><th>Id</th><th>Type</th><th>Status</th><th>Details Page</th><th>Docs Page</th></tr><tr><td>automl_experiment</td><td>AutoML_559ccef3-9e95-4d1b-9201-2eef6bd98251</td><td>automl</td><td>NotStarted</td><td><a href=\"https://ml.azure.com/runs/AutoML_559ccef3-9e95-4d1b-9201-2eef6bd98251?wsid=/subscriptions/cdbe0b43-92a0-4715-838a-f2648cc7ad21/resourcegroups/aml-quickstarts-225458/workspaces/quick-starts-ws-225458&amp;tid=660b3398-b80e-49d2-bc5b-ac1dc93b5254\" target=\"_blank\" rel=\"noopener\">Link to Azure Machine Learning studio</a></td><td><a href=\"https://docs.microsoft.com/en-us/python/api/overview/azure/ml/intro?view=azure-ml-py\" target=\"_blank\" rel=\"noopener\">Link to Documentation</a></td></tr></table>"
      ],
      "text/plain": [
       "<IPython.core.display.HTML object>"
      ]
     },
     "metadata": {},
     "output_type": "display_data"
    }
   ],
   "source": [
    "# Submit the experiment\n",
    "remote_run = experiment.submit(automl_config)"
   ]
  },
  {
   "cell_type": "markdown",
   "metadata": {},
   "source": [
    "## Run Details\n",
    "\n",
    "OPTIONAL: Write about the different models trained and their performance. Why do you think some models did better than others?\n",
    "\n",
    "TODO: In the cell below, use the `RunDetails` widget to show the different experiments."
   ]
  },
  {
   "cell_type": "code",
   "execution_count": 8,
   "metadata": {
    "gather": {
     "logged": 1598431121770
    },
    "jupyter": {
     "outputs_hidden": false,
     "source_hidden": false
    },
    "nteract": {
     "transient": {
      "deleting": false
     }
    }
   },
   "outputs": [
    {
     "data": {
      "application/vnd.jupyter.widget-view+json": {
       "model_id": "4a3d9687863c40b48df68f54b131bda2",
       "version_major": 2,
       "version_minor": 0
      },
      "text/plain": [
       "_AutoMLWidget(widget_settings={'childWidgetDisplay': 'popup', 'send_telemetry': False, 'log_level': 'INFO', 's…"
      ]
     },
     "metadata": {},
     "output_type": "display_data"
    },
    {
     "data": {
      "application/aml.mini.widget.v1": "{\"status\": \"Completed\", \"workbench_run_details_uri\": \"https://ml.azure.com/runs/AutoML_559ccef3-9e95-4d1b-9201-2eef6bd98251?wsid=/subscriptions/cdbe0b43-92a0-4715-838a-f2648cc7ad21/resourcegroups/aml-quickstarts-225458/workspaces/quick-starts-ws-225458&tid=660b3398-b80e-49d2-bc5b-ac1dc93b5254\", \"run_id\": \"AutoML_559ccef3-9e95-4d1b-9201-2eef6bd98251\", \"run_properties\": {\"run_id\": \"AutoML_559ccef3-9e95-4d1b-9201-2eef6bd98251\", \"created_utc\": \"2023-02-11T12:35:27.099638Z\", \"properties\": {\"num_iterations\": \"1000\", \"training_type\": \"TrainFull\", \"acquisition_function\": \"EI\", \"primary_metric\": \"accuracy\", \"train_split\": \"0\", \"acquisition_parameter\": \"0\", \"num_cross_validation\": \"4\", \"target\": \"automl-cluster\", \"AMLSettingsJsonString\": \"{\\\"path\\\":null,\\\"name\\\":\\\"automl_experiment\\\",\\\"subscription_id\\\":\\\"cdbe0b43-92a0-4715-838a-f2648cc7ad21\\\",\\\"resource_group\\\":\\\"aml-quickstarts-225458\\\",\\\"workspace_name\\\":\\\"quick-starts-ws-225458\\\",\\\"region\\\":\\\"southcentralus\\\",\\\"compute_target\\\":\\\"automl-cluster\\\",\\\"spark_service\\\":null,\\\"azure_service\\\":\\\"remote\\\",\\\"many_models\\\":false,\\\"pipeline_fetch_max_batch_size\\\":1,\\\"enable_batch_run\\\":true,\\\"enable_parallel_run\\\":false,\\\"num_procs\\\":null,\\\"enable_run_restructure\\\":false,\\\"start_auxiliary_runs_before_parent_complete\\\":false,\\\"enable_code_generation\\\":true,\\\"iterations\\\":1000,\\\"primary_metric\\\":\\\"accuracy\\\",\\\"task_type\\\":\\\"classification\\\",\\\"positive_label\\\":null,\\\"data_script\\\":null,\\\"test_size\\\":0.0,\\\"test_include_predictions_only\\\":false,\\\"validation_size\\\":0.0,\\\"n_cross_validations\\\":4,\\\"y_min\\\":null,\\\"y_max\\\":null,\\\"num_classes\\\":null,\\\"featurization\\\":\\\"auto\\\",\\\"_ignore_package_version_incompatibilities\\\":false,\\\"is_timeseries\\\":false,\\\"max_cores_per_iteration\\\":1,\\\"max_concurrent_iterations\\\":4,\\\"iteration_timeout_minutes\\\":null,\\\"mem_in_mb\\\":null,\\\"enforce_time_on_windows\\\":false,\\\"experiment_timeout_minutes\\\":25,\\\"experiment_exit_score\\\":null,\\\"partition_column_names\\\":null,\\\"whitelist_models\\\":null,\\\"blacklist_algos\\\":[\\\"TensorFlowLinearClassifier\\\",\\\"TensorFlowDNN\\\"],\\\"supported_models\\\":[\\\"TensorFlowLinearClassifier\\\",\\\"XGBoostClassifier\\\",\\\"LogisticRegression\\\",\\\"SVM\\\",\\\"MultinomialNaiveBayes\\\",\\\"BernoulliNaiveBayes\\\",\\\"SGD\\\",\\\"KNN\\\",\\\"LinearSVM\\\",\\\"DecisionTree\\\",\\\"RandomForest\\\",\\\"ExtremeRandomTrees\\\",\\\"LightGBM\\\",\\\"AveragedPerceptronClassifier\\\",\\\"GradientBoosting\\\",\\\"TabnetClassifier\\\",\\\"TensorFlowDNN\\\"],\\\"private_models\\\":[],\\\"auto_blacklist\\\":true,\\\"blacklist_samples_reached\\\":false,\\\"exclude_nan_labels\\\":true,\\\"verbosity\\\":20,\\\"_debug_log\\\":\\\"azureml_automl.log\\\",\\\"show_warnings\\\":false,\\\"model_explainability\\\":true,\\\"service_url\\\":null,\\\"sdk_url\\\":null,\\\"sdk_packages\\\":null,\\\"enable_onnx_compatible_models\\\":false,\\\"enable_split_onnx_featurizer_estimator_models\\\":false,\\\"vm_type\\\":\\\"STANDARD_D2_V2\\\",\\\"telemetry_verbosity\\\":20,\\\"send_telemetry\\\":true,\\\"enable_dnn\\\":false,\\\"scenario\\\":\\\"AutoML\\\",\\\"environment_label\\\":null,\\\"save_mlflow\\\":false,\\\"enable_categorical_indicators\\\":false,\\\"force_text_dnn\\\":false,\\\"enable_feature_sweeping\\\":true,\\\"enable_early_stopping\\\":true,\\\"early_stopping_n_iters\\\":10,\\\"arguments\\\":null,\\\"dataset_id\\\":\\\"fb69269d-ae81-4477-926d-eae93724225c\\\",\\\"hyperdrive_config\\\":null,\\\"validation_dataset_id\\\":null,\\\"run_source\\\":null,\\\"metrics\\\":null,\\\"enable_metric_confidence\\\":false,\\\"enable_ensembling\\\":true,\\\"enable_stack_ensembling\\\":true,\\\"ensemble_iterations\\\":15,\\\"enable_tf\\\":false,\\\"enable_subsampling\\\":null,\\\"subsample_seed\\\":null,\\\"enable_nimbusml\\\":false,\\\"enable_streaming\\\":false,\\\"force_streaming\\\":false,\\\"track_child_runs\\\":true,\\\"n_best_runs\\\":1,\\\"allowed_private_models\\\":[],\\\"label_column_name\\\":\\\"DEATH_EVENT\\\",\\\"weight_column_name\\\":null,\\\"cv_split_column_names\\\":null,\\\"enable_local_managed\\\":false,\\\"_local_managed_run_id\\\":null,\\\"cost_mode\\\":1,\\\"lag_length\\\":0,\\\"metric_operation\\\":\\\"maximize\\\",\\\"preprocess\\\":true}\", \"DataPrepJsonString\": \"{\\\\\\\"training_data\\\\\\\": {\\\\\\\"datasetId\\\\\\\": \\\\\\\"fb69269d-ae81-4477-926d-eae93724225c\\\\\\\"}, \\\\\\\"datasets\\\\\\\": 0}\", \"EnableSubsampling\": null, \"runTemplate\": \"AutoML\", \"azureml.runsource\": \"automl\", \"display_task_type\": \"classification\", \"dependencies_versions\": \"{\\\"azureml-widgets\\\": \\\"1.48.0\\\", \\\"azureml-training-tabular\\\": \\\"1.48.0\\\", \\\"azureml-train\\\": \\\"1.48.0\\\", \\\"azureml-train-restclients-hyperdrive\\\": \\\"1.48.0\\\", \\\"azureml-train-core\\\": \\\"1.48.0\\\", \\\"azureml-train-automl\\\": \\\"1.48.0\\\", \\\"azureml-train-automl-runtime\\\": \\\"1.48.0\\\", \\\"azureml-train-automl-client\\\": \\\"1.48.0\\\", \\\"azureml-tensorboard\\\": \\\"1.48.0\\\", \\\"azureml-telemetry\\\": \\\"1.48.0\\\", \\\"azureml-sdk\\\": \\\"1.48.0\\\", \\\"azureml-samples\\\": \\\"0+unknown\\\", \\\"azureml-responsibleai\\\": \\\"1.48.0\\\", \\\"azureml-pipeline\\\": \\\"1.48.0\\\", \\\"azureml-pipeline-steps\\\": \\\"1.48.0\\\", \\\"azureml-pipeline-core\\\": \\\"1.48.0\\\", \\\"azureml-opendatasets\\\": \\\"1.48.0\\\", \\\"azureml-mlflow\\\": \\\"1.48.0\\\", \\\"azureml-interpret\\\": \\\"1.48.0\\\", \\\"azureml-inference-server-http\\\": \\\"0.7.7\\\", \\\"azureml-explain-model\\\": \\\"1.48.0\\\", \\\"azureml-defaults\\\": \\\"1.48.0\\\", \\\"azureml-dataset-runtime\\\": \\\"1.48.0\\\", \\\"azureml-dataprep\\\": \\\"4.8.3\\\", \\\"azureml-dataprep-rslex\\\": \\\"2.15.1\\\", \\\"azureml-dataprep-native\\\": \\\"38.0.0\\\", \\\"azureml-datadrift\\\": \\\"1.48.0\\\", \\\"azureml-core\\\": \\\"1.48.0\\\", \\\"azureml-contrib-services\\\": \\\"1.48.0\\\", \\\"azureml-contrib-server\\\": \\\"1.48.0\\\", \\\"azureml-contrib-reinforcementlearning\\\": \\\"1.48.0\\\", \\\"azureml-contrib-pipeline-steps\\\": \\\"1.48.0\\\", \\\"azureml-contrib-notebook\\\": \\\"1.48.0\\\", \\\"azureml-contrib-fairness\\\": \\\"1.48.0\\\", \\\"azureml-contrib-dataset\\\": \\\"1.48.0\\\", \\\"azureml-contrib-automl-pipeline-steps\\\": \\\"1.48.0\\\", \\\"azureml-cli-common\\\": \\\"1.48.0\\\", \\\"azureml-automl-runtime\\\": \\\"1.48.0.post1\\\", \\\"azureml-automl-dnn-nlp\\\": \\\"1.48.0\\\", \\\"azureml-automl-core\\\": \\\"1.48.0\\\", \\\"azureml-accel-models\\\": \\\"1.48.0\\\"}\", \"_aml_system_scenario_identification\": \"Remote.Parent\", \"ClientType\": \"SDK\", \"environment_cpu_name\": \"AzureML-AutoML\", \"environment_cpu_label\": \"nimbus-deprecation\", \"environment_gpu_name\": \"AzureML-AutoML-GPU\", \"environment_gpu_label\": \"prod\", \"root_attribution\": \"automl\", \"attribution\": \"AutoML\", \"Orchestrator\": \"AutoML\", \"CancelUri\": \"https://southcentralus.api.azureml.ms/jasmine/v1.0/subscriptions/cdbe0b43-92a0-4715-838a-f2648cc7ad21/resourceGroups/aml-quickstarts-225458/providers/Microsoft.MachineLearningServices/workspaces/quick-starts-ws-225458/experimentids/cf532da8-955c-4e77-b9ea-4c560b7cb345/cancel/AutoML_559ccef3-9e95-4d1b-9201-2eef6bd98251\", \"ClientSdkVersion\": \"1.48.0.post1\", \"snapshotId\": \"00000000-0000-0000-0000-000000000000\", \"SetupRunId\": \"AutoML_559ccef3-9e95-4d1b-9201-2eef6bd98251_setup\", \"SetupRunContainerId\": \"dcid.AutoML_559ccef3-9e95-4d1b-9201-2eef6bd98251_setup\", \"FeaturizationRunJsonPath\": \"featurizer_container.json\", \"FeaturizationRunId\": \"AutoML_559ccef3-9e95-4d1b-9201-2eef6bd98251_featurize\", \"ProblemInfoJsonString\": \"{\\\"dataset_num_categorical\\\": 0, \\\"is_sparse\\\": false, \\\"subsampling\\\": false, \\\"has_extra_col\\\": true, \\\"dataset_classes\\\": 2, \\\"dataset_features\\\": 12, \\\"dataset_samples\\\": 299, \\\"single_frequency_class_detected\\\": false}\", \"ModelExplainRunId\": \"AutoML_559ccef3-9e95-4d1b-9201-2eef6bd98251_ModelExplain\"}, \"tags\": {\"model_explain_run\": \"best_run\", \"_aml_system_automl_run_workspace_id\": \"fed0fea5-9e89-4de0-b240-1826627612df\", \"_aml_system_azureml.automlComponent\": \"AutoML\", \"pipeline_id_000\": \"5dfac790c5c209f98a1da2dc1c7fb76f0397324f;c7af0367625be6ac5c2fecbfc72ed444cb7a2111;799d2168db11fc19b9e1c6c1df62f8981ad39fe9;44b5d2d23120dfcf96a7dc6389a293d17a966b1b;628c2351f7c75d74ad3673f2d39af16d6976da2e;3735210984ea10097d5c91905cf6300ac278cd89;2964988f7520e6167bfe42ba2c42ab4a75f8a68c;5304e705d6f401cb07f85bcf0ca59ac1f84dfcf5;5f21d4801ee2a6073890b89985177d37ef49c646;081b692de9e87424d86c2c1d0787b65e098fc386;294650ec23bc3d067a4972de7ceb12f6e97260fa;08e13545f5f7e2df5ef6a66d4110cfd996b1a0e3;22bffc6cdfb453aa19b0792ec8a8b592bd44dc5b;bc4e14e9481990f09b66c70640f3b1c528f584ac;ce96746d6f86360fe360023f5ae43340d1986145;7b422e7b3f86902c2409d5b5d9ff0c84d5dacfee;ca211529127bb19e1fc933b24b457a03beb5e48e;3caa818370e5e0c328d6266c359019bd31681270;589334a57221e0720a95cf217c065115a7b841d1;35b8e2db3c5f6e714072e1be9f0210fe48426975;1dfdf370ba770047b14bfa59c40920815defcdab;dc68fbd594530b5d52812dd9b3ffa3d6d8ba625e;17f87d449bb43aaf3cdae4b7eb6dd6e7fbdaf343;3fd2e115482e0c7b92aa3297688aefb6c3aa6fb8;da45f657e4591caadf1589a85a1f7b8932585595;5845b3a646762d60d719ce6353bbf7c6506495a7;664e966ce723fe972f3a23a912154a68b05d3f1e;83c8974d3c3077eb039f99670786892c05e08d80;f0ea9ff175d03a19ae03ebe2246a695c85b44396;7256de7f7ce573eff001bb38bb7f1d8258f0ed16;e24d94003b8d24eba8593a7682c9854816aa5e90;a41f9d767a09f568f8821555359261a733ab3ad4;eec7dd1668df1a4356b23a99e4b6e000b40f98a3;1a4f02998b7a0bc01a425ec8c90a72c6ee474d09;20f50b65572e940f1a5e415baebbf981a076becc;d4a0230cdc4e757b3ecd2a2f364f8f0141fb5e8d;7a175c9b0d6841055004b935356daa8156096425;6e9b2d490c9ec2590e664e6a8660bd908d516a14;aa8bb4717cac162fa9588e7e9fd19d6e4d574768;cbbef77cccbd4de8c0d832bcf23c4b1c3448cfe8;7671ec59515d314da8baeefc2e3853c4f9fec761;f2a69c8e4c52313f8c3e3055f4df92f655753cba;18f0b1fa003f1cd51944743ef7661934a5a19f34;4113ccf9741a250c600778a78f8b790b390962c7;49432169fe04e8aae4698c6aee8127dffd7c4539;__AutoML_Ensemble__;__AutoML_Stack_Ensemble__\", \"score\": \"\", \"predicted_cost\": \"\", \"fit_time\": \"\", \"training_percent\": \"\", \"iteration\": \"\", \"run_preprocessor\": \"\", \"run_algorithm\": \"\", \"dynamic_allowlisting_iterations\": \"<25>;<30>;<35>;<40>;\", \"_aml_system_azureml.automl_early_exit_message\": \"No scores improved over last 10 iterations, so experiment stopped early. This early stopping behavior can be disabled by setting enable_early_stopping = False in AutoMLConfig for notebook/python SDK runs.\", \"automl_best_child_run_id\": \"AutoML_559ccef3-9e95-4d1b-9201-2eef6bd98251_45\", \"model_explain_best_run_child_id\": \"AutoML_559ccef3-9e95-4d1b-9201-2eef6bd98251_45\"}, \"end_time_utc\": \"2023-02-11T12:47:32.847023Z\", \"status\": \"Completed\", \"log_files\": {}, \"log_groups\": [], \"run_duration\": \"0:12:05\", \"run_number\": \"1676118927\", \"run_queued_details\": {\"status\": \"Completed\", \"details\": null}}, \"child_runs\": [{\"run_id\": \"AutoML_559ccef3-9e95-4d1b-9201-2eef6bd98251_setup\", \"run_number\": 1676118940, \"metric\": null, \"status\": \"Completed\", \"run_type\": \"azureml.scriptrun\", \"training_percent\": null, \"start_time\": \"2023-02-11T12:35:49.643175Z\", \"end_time\": \"2023-02-11T12:37:26.890886Z\", \"created_time\": \"2023-02-11T12:35:40.167441Z\", \"created_time_dt\": \"2023-02-11T12:35:40.167441Z\", \"duration\": \"0:01:46\", \"iteration\": null, \"goal\": null, \"run_name\": \"Completed\", \"run_properties\": null}, {\"run_id\": \"AutoML_559ccef3-9e95-4d1b-9201-2eef6bd98251_featurize\", \"run_number\": 1676119047, \"metric\": null, \"status\": \"Completed\", \"run_type\": \"automl.featurization\", \"training_percent\": null, \"start_time\": \"2023-02-11T12:37:27.440734Z\", \"end_time\": \"2023-02-11T12:38:03.371821Z\", \"created_time\": \"2023-02-11T12:37:27.146014Z\", \"created_time_dt\": \"2023-02-11T12:37:27.146014Z\", \"duration\": \"0:00:36\", \"iteration\": null, \"goal\": null, \"run_name\": \"Completed\", \"run_properties\": null}, {\"run_id\": \"AutoML_559ccef3-9e95-4d1b-9201-2eef6bd98251_0\", \"run_number\": 1676119084, \"metric\": null, \"status\": \"Completed\", \"run_type\": null, \"training_percent\": \"100\", \"start_time\": \"2023-02-11T12:38:22.980673Z\", \"end_time\": \"2023-02-11T12:38:32.9998Z\", \"created_time\": \"2023-02-11T12:38:04.806742Z\", \"created_time_dt\": \"2023-02-11T12:38:04.806742Z\", \"duration\": \"0:00:28\", \"iteration\": \"0\", \"goal\": \"accuracy_max\", \"run_name\": \"MaxAbsScaler, LightGBM\", \"run_properties\": \"copy=True\", \"primary_metric\": 0.82594595, \"best_metric\": 0.82594595}, {\"run_id\": \"AutoML_559ccef3-9e95-4d1b-9201-2eef6bd98251_1\", \"run_number\": 1676119085, \"metric\": null, \"status\": \"Completed\", \"run_type\": null, \"training_percent\": \"100\", \"start_time\": \"2023-02-11T12:38:33.546136Z\", \"end_time\": \"2023-02-11T12:38:41.350997Z\", \"created_time\": \"2023-02-11T12:38:05.201987Z\", \"created_time_dt\": \"2023-02-11T12:38:05.201987Z\", \"duration\": \"0:00:36\", \"iteration\": \"1\", \"goal\": \"accuracy_max\", \"run_name\": \"MaxAbsScaler, XGBoostClassifier\", \"run_properties\": \"copy=True\", \"primary_metric\": 0.82923423, \"best_metric\": 0.82923423}, {\"run_id\": \"AutoML_559ccef3-9e95-4d1b-9201-2eef6bd98251_worker_0\", \"run_number\": 1676119086, \"metric\": null, \"status\": \"Completed\", \"run_type\": \"azureml.scriptrun\", \"training_percent\": null, \"start_time\": \"2023-02-11T12:38:13.979075Z\", \"end_time\": \"2023-02-11T12:39:20.512192Z\", \"created_time\": \"2023-02-11T12:38:06.78403Z\", \"created_time_dt\": \"2023-02-11T12:38:06.78403Z\", \"duration\": \"0:01:13\", \"iteration\": null, \"goal\": null, \"run_name\": \"Completed\", \"run_properties\": null}, {\"run_id\": \"AutoML_559ccef3-9e95-4d1b-9201-2eef6bd98251_6\", \"run_number\": 1676119088, \"metric\": null, \"status\": \"Completed\", \"run_type\": null, \"training_percent\": \"100\", \"start_time\": \"2023-02-11T12:39:42.233826Z\", \"end_time\": \"2023-02-11T12:39:55.507003Z\", \"created_time\": \"2023-02-11T12:38:08.018442Z\", \"created_time_dt\": \"2023-02-11T12:38:08.018442Z\", \"duration\": \"0:01:47\", \"iteration\": \"6\", \"goal\": \"accuracy_max\", \"run_name\": \"RobustScaler, LogisticRegression\", \"run_properties\": \"copy=True, quantile_range=[10, 90], with_centering=True,\\n             with_scaling=True\", \"primary_metric\": 0.80243243, \"best_metric\": 0.82923423}, {\"run_id\": \"AutoML_559ccef3-9e95-4d1b-9201-2eef6bd98251_7\", \"run_number\": 1676119089, \"metric\": null, \"status\": \"Completed\", \"run_type\": null, \"training_percent\": \"100\", \"start_time\": \"2023-02-11T12:39:56.020843Z\", \"end_time\": \"2023-02-11T12:40:03.760803Z\", \"created_time\": \"2023-02-11T12:38:09.275098Z\", \"created_time_dt\": \"2023-02-11T12:38:09.275098Z\", \"duration\": \"0:01:54\", \"iteration\": \"7\", \"goal\": \"accuracy_max\", \"run_name\": \"MaxAbsScaler, LightGBM\", \"run_properties\": \"copy=True\", \"primary_metric\": 0.81274775, \"best_metric\": 0.82923423}, {\"run_id\": \"AutoML_559ccef3-9e95-4d1b-9201-2eef6bd98251_worker_1\", \"run_number\": 1676119090, \"metric\": null, \"status\": \"Completed\", \"run_type\": \"azureml.scriptrun\", \"training_percent\": null, \"start_time\": \"2023-02-11T12:39:23.696639Z\", \"end_time\": \"2023-02-11T12:40:36.03003Z\", \"created_time\": \"2023-02-11T12:38:10.46037Z\", \"created_time_dt\": \"2023-02-11T12:38:10.46037Z\", \"duration\": \"0:02:25\", \"iteration\": null, \"goal\": null, \"run_name\": \"Completed\", \"run_properties\": null}, {\"run_id\": \"AutoML_559ccef3-9e95-4d1b-9201-2eef6bd98251_11\", \"run_number\": 1676119091, \"metric\": null, \"status\": \"Completed\", \"run_type\": null, \"training_percent\": \"100\", \"start_time\": \"2023-02-11T12:40:59.248643Z\", \"end_time\": \"2023-02-11T12:41:10.180188Z\", \"created_time\": \"2023-02-11T12:38:11.007595Z\", \"created_time_dt\": \"2023-02-11T12:38:11.007595Z\", \"duration\": \"0:02:59\", \"iteration\": \"11\", \"goal\": \"accuracy_max\", \"run_name\": \"MinMaxScaler, RandomForest\", \"run_properties\": \"copy=True, feature_range=(0, 1\", \"primary_metric\": 0.82905405, \"best_metric\": 0.82923423}, {\"run_id\": \"AutoML_559ccef3-9e95-4d1b-9201-2eef6bd98251_13\", \"run_number\": 1676119092, \"metric\": null, \"status\": \"Completed\", \"run_type\": null, \"training_percent\": \"100\", \"start_time\": \"2023-02-11T12:41:19.596691Z\", \"end_time\": \"2023-02-11T12:41:27.396559Z\", \"created_time\": \"2023-02-11T12:38:12.153248Z\", \"created_time_dt\": \"2023-02-11T12:38:12.153248Z\", \"duration\": \"0:03:15\", \"iteration\": \"13\", \"goal\": \"accuracy_max\", \"run_name\": \"StandardScalerWrapper, KNN\", \"run_properties\": \"copy=True, with_mean=False, with_std=True\", \"primary_metric\": 0.71252252, \"best_metric\": 0.82923423}, {\"run_id\": \"AutoML_559ccef3-9e95-4d1b-9201-2eef6bd98251_worker_2\", \"run_number\": 1676119093, \"metric\": null, \"status\": \"Completed\", \"run_type\": \"azureml.scriptrun\", \"training_percent\": null, \"start_time\": \"2023-02-11T12:40:39.432801Z\", \"end_time\": \"2023-02-11T12:41:49.83088Z\", \"created_time\": \"2023-02-11T12:38:13.29307Z\", \"created_time_dt\": \"2023-02-11T12:38:13.29307Z\", \"duration\": \"0:03:36\", \"iteration\": null, \"goal\": null, \"run_name\": \"Completed\", \"run_properties\": null}, {\"run_id\": \"AutoML_559ccef3-9e95-4d1b-9201-2eef6bd98251_17\", \"run_number\": 1676119094, \"metric\": null, \"status\": \"Completed\", \"run_type\": null, \"training_percent\": \"100\", \"start_time\": \"2023-02-11T12:42:15.676333Z\", \"end_time\": \"2023-02-11T12:42:28.203641Z\", \"created_time\": \"2023-02-11T12:38:14.202257Z\", \"created_time_dt\": \"2023-02-11T12:38:14.202257Z\", \"duration\": \"0:04:14\", \"iteration\": \"17\", \"goal\": \"accuracy_max\", \"run_name\": \"MaxAbsScaler, LogisticRegression\", \"run_properties\": \"copy=True\", \"primary_metric\": 0.81923423, \"best_metric\": 0.82923423}, {\"run_id\": \"AutoML_559ccef3-9e95-4d1b-9201-2eef6bd98251_worker_3\", \"run_number\": 1676119095, \"metric\": null, \"status\": \"Completed\", \"run_type\": \"azureml.scriptrun\", \"training_percent\": null, \"start_time\": \"2023-02-11T12:40:45.625674Z\", \"end_time\": \"2023-02-11T12:42:58.252229Z\", \"created_time\": \"2023-02-11T12:38:15.319899Z\", \"created_time_dt\": \"2023-02-11T12:38:15.319899Z\", \"duration\": \"0:04:42\", \"iteration\": null, \"goal\": null, \"run_name\": \"Completed\", \"run_properties\": null}, {\"run_id\": \"AutoML_559ccef3-9e95-4d1b-9201-2eef6bd98251_20\", \"run_number\": 1676119338, \"metric\": null, \"status\": \"Completed\", \"run_type\": \"azureml.scriptrun\", \"training_percent\": \"100\", \"start_time\": \"2023-02-11T12:42:35.563609Z\", \"end_time\": \"2023-02-11T12:44:05.07498Z\", \"created_time\": \"2023-02-11T12:42:18.974067Z\", \"created_time_dt\": \"2023-02-11T12:42:18.974067Z\", \"duration\": \"0:01:46\", \"iteration\": \"20\", \"goal\": \"accuracy_max\", \"run_name\": \"MaxAbsScaler, LogisticRegression\", \"run_properties\": \"copy=True\", \"primary_metric\": 0.81247748, \"best_metric\": 0.82923423}, {\"run_id\": \"AutoML_559ccef3-9e95-4d1b-9201-2eef6bd98251_22\", \"run_number\": 1676119339, \"metric\": null, \"status\": \"Completed\", \"run_type\": \"azureml.scriptrun\", \"training_percent\": \"100\", \"start_time\": \"2023-02-11T12:42:32.643606Z\", \"end_time\": \"2023-02-11T12:43:01.500409Z\", \"created_time\": \"2023-02-11T12:42:19.037855Z\", \"created_time_dt\": \"2023-02-11T12:42:19.037855Z\", \"duration\": \"0:00:42\", \"iteration\": \"22\", \"goal\": \"accuracy_max\", \"run_name\": \"SparseNormalizer, RandomForest\", \"run_properties\": \"copy=True, norm='l2'\", \"primary_metric\": 0.80932432, \"best_metric\": 0.82923423}, {\"run_id\": \"AutoML_559ccef3-9e95-4d1b-9201-2eef6bd98251_24\", \"run_number\": 1676119383, \"metric\": null, \"status\": \"Completed\", \"run_type\": \"azureml.scriptrun\", \"training_percent\": \"100\", \"start_time\": \"2023-02-11T12:43:12.060448Z\", \"end_time\": \"2023-02-11T12:43:34.434717Z\", \"created_time\": \"2023-02-11T12:43:03.705277Z\", \"created_time_dt\": \"2023-02-11T12:43:03.705277Z\", \"duration\": \"0:00:30\", \"iteration\": \"24\", \"goal\": \"accuracy_max\", \"run_name\": \"StandardScalerWrapper, XGBoostClassifier\", \"run_properties\": \"copy=True, with_mean=False, with_std=False\", \"primary_metric\": 0.83252252, \"best_metric\": 0.83252252}, {\"run_id\": \"AutoML_559ccef3-9e95-4d1b-9201-2eef6bd98251_25\", \"run_number\": 1676119416, \"metric\": null, \"status\": \"Completed\", \"run_type\": \"azureml.scriptrun\", \"training_percent\": \"100\", \"start_time\": \"2023-02-11T12:43:43.918266Z\", \"end_time\": \"2023-02-11T12:44:11.620006Z\", \"created_time\": \"2023-02-11T12:43:36.966107Z\", \"created_time_dt\": \"2023-02-11T12:43:36.966107Z\", \"duration\": \"0:00:34\", \"iteration\": \"25\", \"goal\": \"accuracy_max\", \"run_name\": \"RobustScaler, LightGBM\", \"run_properties\": \"copy=True, quantile_range=[25, 75], with_centering=True,\\n             with_scaling=True\", \"primary_metric\": 0.84261261, \"best_metric\": 0.84261261}, {\"run_id\": \"AutoML_559ccef3-9e95-4d1b-9201-2eef6bd98251_26\", \"run_number\": 1676119420, \"metric\": null, \"status\": \"Completed\", \"run_type\": \"azureml.scriptrun\", \"training_percent\": \"100\", \"start_time\": \"2023-02-11T12:43:45.717235Z\", \"end_time\": \"2023-02-11T12:44:13.1484Z\", \"created_time\": \"2023-02-11T12:43:40.10307Z\", \"created_time_dt\": \"2023-02-11T12:43:40.10307Z\", \"duration\": \"0:00:33\", \"iteration\": \"26\", \"goal\": \"accuracy_max\", \"run_name\": \"SparseNormalizer, XGBoostClassifier\", \"run_properties\": \"copy=True, norm='l1'\", \"primary_metric\": 0.81918919, \"best_metric\": 0.84261261}, {\"run_id\": \"AutoML_559ccef3-9e95-4d1b-9201-2eef6bd98251_27\", \"run_number\": 1676119444, \"metric\": null, \"status\": \"Completed\", \"run_type\": \"azureml.scriptrun\", \"training_percent\": \"100\", \"start_time\": \"2023-02-11T12:44:11.746196Z\", \"end_time\": \"2023-02-11T12:44:35.481517Z\", \"created_time\": \"2023-02-11T12:44:04.940544Z\", \"created_time_dt\": \"2023-02-11T12:44:04.940544Z\", \"duration\": \"0:00:30\", \"iteration\": \"27\", \"goal\": \"accuracy_max\", \"run_name\": \"RobustScaler, RandomForest\", \"run_properties\": \"copy=True, quantile_range=[10, 90], with_centering=True,\\n             with_scaling=True\", \"primary_metric\": 0.83594595, \"best_metric\": 0.84261261}, {\"run_id\": \"AutoML_559ccef3-9e95-4d1b-9201-2eef6bd98251_28\", \"run_number\": 1676119447, \"metric\": null, \"status\": \"Completed\", \"run_type\": \"azureml.scriptrun\", \"training_percent\": \"100\", \"start_time\": \"2023-02-11T12:44:12.880414Z\", \"end_time\": \"2023-02-11T12:44:38.638125Z\", \"created_time\": \"2023-02-11T12:44:07.053649Z\", \"created_time_dt\": \"2023-02-11T12:44:07.053649Z\", \"duration\": \"0:00:31\", \"iteration\": \"28\", \"goal\": \"accuracy_max\", \"run_name\": \"RobustScaler, LightGBM\", \"run_properties\": \"copy=True, quantile_range=[25, 75], with_centering=True,\\n             with_scaling=False\", \"primary_metric\": 0.85279279, \"best_metric\": 0.85279279}, {\"run_id\": \"AutoML_559ccef3-9e95-4d1b-9201-2eef6bd98251_29\", \"run_number\": 1676119453, \"metric\": null, \"status\": \"Completed\", \"run_type\": \"azureml.scriptrun\", \"training_percent\": \"100\", \"start_time\": \"2023-02-11T12:44:19.677735Z\", \"end_time\": \"2023-02-11T12:44:44.035472Z\", \"created_time\": \"2023-02-11T12:44:13.087676Z\", \"created_time_dt\": \"2023-02-11T12:44:13.087676Z\", \"duration\": \"0:00:30\", \"iteration\": \"29\", \"goal\": \"accuracy_max\", \"run_name\": \"StandardScalerWrapper, XGBoostClassifier\", \"run_properties\": \"copy=True, with_mean=False, with_std=False\", \"primary_metric\": 0.8290991, \"best_metric\": 0.85279279}, {\"run_id\": \"AutoML_559ccef3-9e95-4d1b-9201-2eef6bd98251_30\", \"run_number\": 1676119456, \"metric\": null, \"status\": \"Completed\", \"run_type\": \"azureml.scriptrun\", \"training_percent\": \"100\", \"start_time\": \"2023-02-11T12:44:20.660816Z\", \"end_time\": \"2023-02-11T12:44:43.50471Z\", \"created_time\": \"2023-02-11T12:44:16.362182Z\", \"created_time_dt\": \"2023-02-11T12:44:16.362182Z\", \"duration\": \"0:00:27\", \"iteration\": \"30\", \"goal\": \"accuracy_max\", \"run_name\": \"StandardScalerWrapper, LightGBM\", \"run_properties\": \"copy=True, with_mean=True, with_std=False\", \"primary_metric\": 0.83927928, \"best_metric\": 0.85279279}, {\"run_id\": \"AutoML_559ccef3-9e95-4d1b-9201-2eef6bd98251_31\", \"run_number\": 1676119477, \"metric\": null, \"status\": \"Completed\", \"run_type\": \"azureml.scriptrun\", \"training_percent\": \"100\", \"start_time\": \"2023-02-11T12:44:42.953484Z\", \"end_time\": \"2023-02-11T12:45:11.671479Z\", \"created_time\": \"2023-02-11T12:44:37.308708Z\", \"created_time_dt\": \"2023-02-11T12:44:37.308708Z\", \"duration\": \"0:00:34\", \"iteration\": \"31\", \"goal\": \"accuracy_max\", \"run_name\": \"StandardScalerWrapper, LightGBM\", \"run_properties\": \"copy=True, with_mean=False, with_std=False\", \"primary_metric\": 0.81918919, \"best_metric\": 0.85279279}, {\"run_id\": \"AutoML_559ccef3-9e95-4d1b-9201-2eef6bd98251_32\", \"run_number\": 1676119480, \"metric\": null, \"status\": \"Completed\", \"run_type\": \"azureml.scriptrun\", \"training_percent\": \"100\", \"start_time\": \"2023-02-11T12:44:47.167959Z\", \"end_time\": \"2023-02-11T12:45:16.822962Z\", \"created_time\": \"2023-02-11T12:44:40.393378Z\", \"created_time_dt\": \"2023-02-11T12:44:40.393378Z\", \"duration\": \"0:00:36\", \"iteration\": \"32\", \"goal\": \"accuracy_max\", \"run_name\": \"StandardScalerWrapper, XGBoostClassifier\", \"run_properties\": \"copy=True, with_mean=False, with_std=False\", \"primary_metric\": 0.85265766, \"best_metric\": 0.85279279}, {\"run_id\": \"AutoML_559ccef3-9e95-4d1b-9201-2eef6bd98251_33\", \"run_number\": 1676119485, \"metric\": null, \"status\": \"Completed\", \"run_type\": \"azureml.scriptrun\", \"training_percent\": \"100\", \"start_time\": \"2023-02-11T12:44:51.1128Z\", \"end_time\": \"2023-02-11T12:45:18.73886Z\", \"created_time\": \"2023-02-11T12:44:45.164046Z\", \"created_time_dt\": \"2023-02-11T12:44:45.164046Z\", \"duration\": \"0:00:33\", \"iteration\": \"33\", \"goal\": \"accuracy_max\", \"run_name\": \"StandardScalerWrapper, XGBoostClassifier\", \"run_properties\": \"copy=True, with_mean=False, with_std=False\", \"primary_metric\": 0.83252252, \"best_metric\": 0.85279279}, {\"run_id\": \"AutoML_559ccef3-9e95-4d1b-9201-2eef6bd98251_34\", \"run_number\": 1676119487, \"metric\": null, \"status\": \"Completed\", \"run_type\": \"azureml.scriptrun\", \"training_percent\": \"100\", \"start_time\": \"2023-02-11T12:44:52.131372Z\", \"end_time\": \"2023-02-11T12:45:19.348942Z\", \"created_time\": \"2023-02-11T12:44:47.690225Z\", \"created_time_dt\": \"2023-02-11T12:44:47.690225Z\", \"duration\": \"0:00:31\", \"iteration\": \"34\", \"goal\": \"accuracy_max\", \"run_name\": \"StandardScalerWrapper, LightGBM\", \"run_properties\": \"copy=True, with_mean=False, with_std=False\", \"primary_metric\": 0.84612613, \"best_metric\": 0.85279279}, {\"run_id\": \"AutoML_559ccef3-9e95-4d1b-9201-2eef6bd98251_35\", \"run_number\": 1676119514, \"metric\": null, \"status\": \"Completed\", \"run_type\": \"azureml.scriptrun\", \"training_percent\": \"100\", \"start_time\": \"2023-02-11T12:45:21.698246Z\", \"end_time\": \"2023-02-11T12:45:45.552538Z\", \"created_time\": \"2023-02-11T12:45:14.479019Z\", \"created_time_dt\": \"2023-02-11T12:45:14.479019Z\", \"duration\": \"0:00:31\", \"iteration\": \"35\", \"goal\": \"accuracy_max\", \"run_name\": \"MinMaxScaler, LightGBM\", \"run_properties\": \"copy=True, feature_range=(0, 1\", \"primary_metric\": 0.81927928, \"best_metric\": 0.85279279}, {\"run_id\": \"AutoML_559ccef3-9e95-4d1b-9201-2eef6bd98251_36\", \"run_number\": 1676119518, \"metric\": null, \"status\": \"Completed\", \"run_type\": \"azureml.scriptrun\", \"training_percent\": \"100\", \"start_time\": \"2023-02-11T12:45:24.636216Z\", \"end_time\": \"2023-02-11T12:45:54.725069Z\", \"created_time\": \"2023-02-11T12:45:18.478433Z\", \"created_time_dt\": \"2023-02-11T12:45:18.478433Z\", \"duration\": \"0:00:36\", \"iteration\": \"36\", \"goal\": \"accuracy_max\", \"run_name\": \"MinMaxScaler, RandomForest\", \"run_properties\": \"copy=True, feature_range=(0, 1\", \"primary_metric\": 0.83234234, \"best_metric\": 0.85279279}, {\"run_id\": \"AutoML_559ccef3-9e95-4d1b-9201-2eef6bd98251_38\", \"run_number\": 1676119521, \"metric\": null, \"status\": \"Completed\", \"run_type\": \"azureml.scriptrun\", \"training_percent\": \"100\", \"start_time\": \"2023-02-11T12:45:27.57587Z\", \"end_time\": \"2023-02-11T12:45:56.192822Z\", \"created_time\": \"2023-02-11T12:45:21.818151Z\", \"created_time_dt\": \"2023-02-11T12:45:21.818151Z\", \"duration\": \"0:00:34\", \"iteration\": \"38\", \"goal\": \"accuracy_max\", \"run_name\": \"MinMaxScaler, RandomForest\", \"run_properties\": \"copy=True, feature_range=(0, 1\", \"primary_metric\": 0.82238739, \"best_metric\": 0.85279279}, {\"run_id\": \"AutoML_559ccef3-9e95-4d1b-9201-2eef6bd98251_39\", \"run_number\": 1676119547, \"metric\": null, \"status\": \"Completed\", \"run_type\": \"azureml.scriptrun\", \"training_percent\": \"100\", \"start_time\": \"2023-02-11T12:45:52.778369Z\", \"end_time\": \"2023-02-11T12:46:15.688761Z\", \"created_time\": \"2023-02-11T12:45:47.299049Z\", \"created_time_dt\": \"2023-02-11T12:45:47.299049Z\", \"duration\": \"0:00:28\", \"iteration\": \"39\", \"goal\": \"accuracy_max\", \"run_name\": \"SparseNormalizer, XGBoostClassifier\", \"run_properties\": \"copy=True, norm='l1'\", \"primary_metric\": 0.83603604, \"best_metric\": 0.85279279}, {\"run_id\": \"AutoML_559ccef3-9e95-4d1b-9201-2eef6bd98251_40\", \"run_number\": 1676119557, \"metric\": null, \"status\": \"Completed\", \"run_type\": \"azureml.scriptrun\", \"training_percent\": \"100\", \"start_time\": \"2023-02-11T12:46:02.963128Z\", \"end_time\": \"2023-02-11T12:46:27.038827Z\", \"created_time\": \"2023-02-11T12:45:57.611215Z\", \"created_time_dt\": \"2023-02-11T12:45:57.611215Z\", \"duration\": \"0:00:29\", \"iteration\": \"40\", \"goal\": \"accuracy_max\", \"run_name\": \"PCA, LightGBM\", \"run_properties\": \"copy=True, iterated_power='auto', n_components=0.45526315789473687,\\n    random_state=None, svd_solver='auto', tol=0.0, whiten=True\", \"primary_metric\": 0.6790991, \"best_metric\": 0.85279279}, {\"run_id\": \"AutoML_559ccef3-9e95-4d1b-9201-2eef6bd98251_42\", \"run_number\": 1676119560, \"metric\": null, \"status\": \"Completed\", \"run_type\": \"azureml.scriptrun\", \"training_percent\": \"100\", \"start_time\": \"2023-02-11T12:46:04.870823Z\", \"end_time\": \"2023-02-11T12:46:27.981763Z\", \"created_time\": \"2023-02-11T12:46:00.117757Z\", \"created_time_dt\": \"2023-02-11T12:46:00.117757Z\", \"duration\": \"0:00:27\", \"iteration\": \"42\", \"goal\": \"accuracy_max\", \"run_name\": \"StandardScalerWrapper, XGBoostClassifier\", \"run_properties\": \"copy=True, with_mean=False, with_std=False\", \"primary_metric\": 0.8359009, \"best_metric\": 0.85279279}, {\"run_id\": \"AutoML_559ccef3-9e95-4d1b-9201-2eef6bd98251_43\", \"run_number\": 1676119578, \"metric\": null, \"status\": \"Canceled\", \"run_type\": \"azureml.scriptrun\", \"training_percent\": \"100\", \"start_time\": \"2023-02-11T12:46:24.166513Z\", \"end_time\": \"2023-02-11T12:46:30.887721Z\", \"created_time\": \"2023-02-11T12:46:18.02884Z\", \"created_time_dt\": \"2023-02-11T12:46:18.02884Z\", \"duration\": \"0:00:12\", \"iteration\": \"43\", \"goal\": null, \"run_name\": \"Canceled\", \"run_properties\": null}, {\"run_id\": \"AutoML_559ccef3-9e95-4d1b-9201-2eef6bd98251_44\", \"run_number\": 1676119588, \"metric\": null, \"status\": \"Canceled\", \"run_type\": \"azureml.scriptrun\", \"training_percent\": \"100\", \"start_time\": \"2023-02-11T12:46:30.70416Z\", \"end_time\": \"2023-02-11T12:46:36.105782Z\", \"created_time\": \"2023-02-11T12:46:28.923025Z\", \"created_time_dt\": \"2023-02-11T12:46:28.923025Z\", \"duration\": \"0:00:07\", \"iteration\": \"44\", \"goal\": \"accuracy_max\", \"run_name\": \"SparseNormalizer, XGBoostClassifier\", \"run_properties\": \"copy=True, norm='l1'\", \"primary_metric\": 0.81932432, \"best_metric\": 0.85279279}, {\"run_id\": \"AutoML_559ccef3-9e95-4d1b-9201-2eef6bd98251_45\", \"run_number\": 1676119596, \"metric\": null, \"status\": \"Completed\", \"run_type\": \"azureml.scriptrun\", \"training_percent\": \"100\", \"start_time\": \"2023-02-11T12:46:42.279267Z\", \"end_time\": \"2023-02-11T12:47:30.375553Z\", \"created_time\": \"2023-02-11T12:46:36.768055Z\", \"created_time_dt\": \"2023-02-11T12:46:36.768055Z\", \"duration\": \"0:00:53\", \"iteration\": \"45\", \"goal\": \"accuracy_max\", \"run_name\": \"VotingEnsemble\", \"run_properties\": \"classification_labels=numpy.array([0, 1]\", \"primary_metric\": 0.87612613, \"best_metric\": 0.87612613}], \"children_metrics\": {\"categories\": [0], \"series\": {\"matthews_correlation\": [{\"categories\": [\"0\", \"1\", \"6\", \"7\", \"11\", \"13\", \"17\", \"20\", \"22\", \"24\", \"25\", \"26\", \"27\", \"28\", \"29\", \"30\", \"31\", \"32\", \"33\", \"34\", \"35\", \"36\", \"38\", \"39\", \"40\", \"42\", \"44\", \"45\"], \"mode\": \"markers\", \"name\": \"matthews_correlation\", \"stepped\": false, \"type\": \"scatter\", \"data\": [0.5911058017587592, 0.608699564590099, 0.566658801375632, 0.5516313965235061, 0.6265692423607602, 0.25925740637639716, 0.5866262583349211, 0.5657467173561752, 0.5614943621688124, 0.6066636762848637, 0.6315606701775671, 0.5747386367576516, 0.6141932917107058, 0.663687120189675, 0.6139835125048595, 0.6202646291811368, 0.5748452861332166, 0.6606809902980898, 0.6041830802935487, 0.6465988392019992, 0.5775340489600359, 0.624540401641376, 0.6065758970406819, 0.6200720916571718, 0.0, 0.619539314015456, 0.56174125071998, 0.7193760100638562]}, {\"categories\": [\"0\", \"1\", \"6\", \"7\", \"11\", \"13\", \"17\", \"20\", \"22\", \"24\", \"25\", \"26\", \"27\", \"28\", \"29\", \"30\", \"31\", \"32\", \"33\", \"34\", \"35\", \"36\", \"38\", \"39\", \"40\", \"42\", \"44\", \"45\"], \"mode\": \"lines\", \"name\": \"matthews_correlation_max\", \"stepped\": true, \"type\": \"scatter\", \"data\": [0.5911058017587592, 0.608699564590099, 0.608699564590099, 0.608699564590099, 0.6265692423607602, 0.6265692423607602, 0.6265692423607602, 0.6265692423607602, 0.6265692423607602, 0.6265692423607602, 0.6315606701775671, 0.6315606701775671, 0.6315606701775671, 0.663687120189675, 0.663687120189675, 0.663687120189675, 0.663687120189675, 0.663687120189675, 0.663687120189675, 0.663687120189675, 0.663687120189675, 0.663687120189675, 0.663687120189675, 0.663687120189675, 0.663687120189675, 0.663687120189675, 0.663687120189675, 0.7193760100638562]}], \"AUC_macro\": [{\"categories\": [\"0\", \"1\", \"6\", \"7\", \"11\", \"13\", \"17\", \"20\", \"22\", \"24\", \"25\", \"26\", \"27\", \"28\", \"29\", \"30\", \"31\", \"32\", \"33\", \"34\", \"35\", \"36\", \"38\", \"39\", \"40\", \"42\", \"44\", \"45\"], \"mode\": \"markers\", \"name\": \"AUC_macro\", \"stepped\": false, \"type\": \"scatter\", \"data\": [0.8859521958215462, 0.888896438490365, 0.8624833721938242, 0.8951478906634274, 0.9080299565469057, 0.8269088432753687, 0.8600156206264964, 0.8617743975265162, 0.8806715680479804, 0.9058615224752231, 0.8951392625474546, 0.8853791224730491, 0.8896780345491503, 0.8969334520888195, 0.9070949311856797, 0.8792614655432451, 0.8701122911927996, 0.9031679197816203, 0.8645702340529318, 0.902996372284861, 0.9017590486517041, 0.8989101356244718, 0.8963248854226962, 0.8884186820450946, 0.536470201238916, 0.8964467618069313, 0.876061903674898, 0.909361420908031]}, {\"categories\": [\"0\", \"1\", \"6\", \"7\", \"11\", \"13\", \"17\", \"20\", \"22\", \"24\", \"25\", \"26\", \"27\", \"28\", \"29\", \"30\", \"31\", \"32\", \"33\", \"34\", \"35\", \"36\", \"38\", \"39\", \"40\", \"42\", \"44\", \"45\"], \"mode\": \"lines\", \"name\": \"AUC_macro_max\", \"stepped\": true, \"type\": \"scatter\", \"data\": [0.8859521958215462, 0.888896438490365, 0.888896438490365, 0.8951478906634274, 0.9080299565469057, 0.9080299565469057, 0.9080299565469057, 0.9080299565469057, 0.9080299565469057, 0.9080299565469057, 0.9080299565469057, 0.9080299565469057, 0.9080299565469057, 0.9080299565469057, 0.9080299565469057, 0.9080299565469057, 0.9080299565469057, 0.9080299565469057, 0.9080299565469057, 0.9080299565469057, 0.9080299565469057, 0.9080299565469057, 0.9080299565469057, 0.9080299565469057, 0.9080299565469057, 0.9080299565469057, 0.9080299565469057, 0.909361420908031]}], \"average_precision_score_weighted\": [{\"categories\": [\"0\", \"1\", \"6\", \"7\", \"11\", \"13\", \"17\", \"20\", \"22\", \"24\", \"25\", \"26\", \"27\", \"28\", \"29\", \"30\", \"31\", \"32\", \"33\", \"34\", \"35\", \"36\", \"38\", \"39\", \"40\", \"42\", \"44\", \"45\"], \"mode\": \"markers\", \"name\": \"average_precision_score_weighted\", \"stepped\": false, \"type\": \"scatter\", \"data\": [0.897705223504243, 0.9011281649735169, 0.8787605512145298, 0.9035432304440358, 0.917888961354459, 0.8485842190676, 0.8770216868246052, 0.879432200139477, 0.8895321896612332, 0.9160436844925219, 0.9071391030961904, 0.8940195828487076, 0.8946409680309697, 0.9064707857198484, 0.9169686799685035, 0.8789926653858688, 0.8836600928926746, 0.9095987335705545, 0.8593770868778614, 0.9107399306925142, 0.9113511340118461, 0.9018929864527592, 0.9027307027791318, 0.8958201677311199, 0.5995167002816278, 0.9079505464849734, 0.8886762907880585, 0.9167757852388063]}, {\"categories\": [\"0\", \"1\", \"6\", \"7\", \"11\", \"13\", \"17\", \"20\", \"22\", \"24\", \"25\", \"26\", \"27\", \"28\", \"29\", \"30\", \"31\", \"32\", \"33\", \"34\", \"35\", \"36\", \"38\", \"39\", \"40\", \"42\", \"44\", \"45\"], \"mode\": \"lines\", \"name\": \"average_precision_score_weighted_max\", \"stepped\": true, \"type\": \"scatter\", \"data\": [0.897705223504243, 0.9011281649735169, 0.9011281649735169, 0.9035432304440358, 0.917888961354459, 0.917888961354459, 0.917888961354459, 0.917888961354459, 0.917888961354459, 0.917888961354459, 0.917888961354459, 0.917888961354459, 0.917888961354459, 0.917888961354459, 0.917888961354459, 0.917888961354459, 0.917888961354459, 0.917888961354459, 0.917888961354459, 0.917888961354459, 0.917888961354459, 0.917888961354459, 0.917888961354459, 0.917888961354459, 0.917888961354459, 0.917888961354459, 0.917888961354459, 0.917888961354459]}], \"f1_score_weighted\": [{\"categories\": [\"0\", \"1\", \"6\", \"7\", \"11\", \"13\", \"17\", \"20\", \"22\", \"24\", \"25\", \"26\", \"27\", \"28\", \"29\", \"30\", \"31\", \"32\", \"33\", \"34\", \"35\", \"36\", \"38\", \"39\", \"40\", \"42\", \"44\", \"45\"], \"mode\": \"markers\", \"name\": \"f1_score_weighted\", \"stepped\": false, \"type\": \"scatter\", \"data\": [0.8223577453628388, 0.8270136912535422, 0.806664794390922, 0.798498001510852, 0.8330222305597903, 0.6232709742423981, 0.8119868169507576, 0.8080093639095861, 0.8076130369866241, 0.8284374614407273, 0.8384041963297283, 0.811706841609593, 0.8302318176528702, 0.848368889459147, 0.8263261495019191, 0.8329169851169851, 0.8118211157574806, 0.8494370225590451, 0.8269431431198349, 0.8385772544286476, 0.8091437949473015, 0.8314718137257389, 0.8218868068868068, 0.8321058898878982, 0.5525023137601632, 0.8324170339114272, 0.8050340078714351, 0.8719385832788409]}, {\"categories\": [\"0\", \"1\", \"6\", \"7\", \"11\", \"13\", \"17\", \"20\", \"22\", \"24\", \"25\", \"26\", \"27\", \"28\", \"29\", \"30\", \"31\", \"32\", \"33\", \"34\", \"35\", \"36\", \"38\", \"39\", \"40\", \"42\", \"44\", \"45\"], \"mode\": \"lines\", \"name\": \"f1_score_weighted_max\", \"stepped\": true, \"type\": \"scatter\", \"data\": [0.8223577453628388, 0.8270136912535422, 0.8270136912535422, 0.8270136912535422, 0.8330222305597903, 0.8330222305597903, 0.8330222305597903, 0.8330222305597903, 0.8330222305597903, 0.8330222305597903, 0.8384041963297283, 0.8384041963297283, 0.8384041963297283, 0.848368889459147, 0.848368889459147, 0.848368889459147, 0.848368889459147, 0.8494370225590451, 0.8494370225590451, 0.8494370225590451, 0.8494370225590451, 0.8494370225590451, 0.8494370225590451, 0.8494370225590451, 0.8494370225590451, 0.8494370225590451, 0.8494370225590451, 0.8719385832788409]}], \"accuracy\": [{\"categories\": [\"0\", \"1\", \"6\", \"7\", \"11\", \"13\", \"17\", \"20\", \"22\", \"24\", \"25\", \"26\", \"27\", \"28\", \"29\", \"30\", \"31\", \"32\", \"33\", \"34\", \"35\", \"36\", \"38\", \"39\", \"40\", \"42\", \"44\", \"45\"], \"mode\": \"markers\", \"name\": \"accuracy\", \"stepped\": false, \"type\": \"scatter\", \"data\": [0.825945945945946, 0.8292342342342343, 0.8024324324324325, 0.8127477477477478, 0.8290540540540541, 0.7125225225225225, 0.8192342342342342, 0.8124774774774774, 0.8093243243243243, 0.8325225225225226, 0.8426126126126127, 0.8191891891891891, 0.835945945945946, 0.8527927927927927, 0.8290990990990991, 0.8392792792792793, 0.8191891891891891, 0.8526576576576577, 0.8325225225225226, 0.8461261261261261, 0.8192792792792793, 0.8323423423423423, 0.8223873873873874, 0.836036036036036, 0.6790990990990992, 0.8359009009009009, 0.8193243243243243, 0.8761261261261261]}, {\"categories\": [\"0\", \"1\", \"6\", \"7\", \"11\", \"13\", \"17\", \"20\", \"22\", \"24\", \"25\", \"26\", \"27\", \"28\", \"29\", \"30\", \"31\", \"32\", \"33\", \"34\", \"35\", \"36\", \"38\", \"39\", \"40\", \"42\", \"44\", \"45\"], \"mode\": \"lines\", \"name\": \"accuracy_max\", \"stepped\": true, \"type\": \"scatter\", \"data\": [0.825945945945946, 0.8292342342342343, 0.8292342342342343, 0.8292342342342343, 0.8292342342342343, 0.8292342342342343, 0.8292342342342343, 0.8292342342342343, 0.8292342342342343, 0.8325225225225226, 0.8426126126126127, 0.8426126126126127, 0.8426126126126127, 0.8527927927927927, 0.8527927927927927, 0.8527927927927927, 0.8527927927927927, 0.8527927927927927, 0.8527927927927927, 0.8527927927927927, 0.8527927927927927, 0.8527927927927927, 0.8527927927927927, 0.8527927927927927, 0.8527927927927927, 0.8527927927927927, 0.8527927927927927, 0.8761261261261261]}], \"recall_score_micro\": [{\"categories\": [\"0\", \"1\", \"6\", \"7\", \"11\", \"13\", \"17\", \"20\", \"22\", \"24\", \"25\", \"26\", \"27\", \"28\", \"29\", \"30\", \"31\", \"32\", \"33\", \"34\", \"35\", \"36\", \"38\", \"39\", \"40\", \"42\", \"44\", \"45\"], \"mode\": \"markers\", \"name\": \"recall_score_micro\", \"stepped\": false, \"type\": \"scatter\", \"data\": [0.825945945945946, 0.8292342342342343, 0.8024324324324325, 0.8127477477477478, 0.8290540540540541, 0.7125225225225225, 0.8192342342342342, 0.8124774774774774, 0.8093243243243243, 0.8325225225225226, 0.8426126126126127, 0.8191891891891891, 0.835945945945946, 0.8527927927927927, 0.8290990990990991, 0.8392792792792793, 0.8191891891891891, 0.8526576576576577, 0.8325225225225226, 0.8461261261261261, 0.8192792792792793, 0.8323423423423423, 0.8223873873873874, 0.836036036036036, 0.6790990990990992, 0.8359009009009009, 0.8193243243243243, 0.8761261261261261]}, {\"categories\": [\"0\", \"1\", \"6\", \"7\", \"11\", \"13\", \"17\", \"20\", \"22\", \"24\", \"25\", \"26\", \"27\", \"28\", \"29\", \"30\", \"31\", \"32\", \"33\", \"34\", \"35\", \"36\", \"38\", \"39\", \"40\", \"42\", \"44\", \"45\"], \"mode\": \"lines\", \"name\": \"recall_score_micro_max\", \"stepped\": true, \"type\": \"scatter\", \"data\": [0.825945945945946, 0.8292342342342343, 0.8292342342342343, 0.8292342342342343, 0.8292342342342343, 0.8292342342342343, 0.8292342342342343, 0.8292342342342343, 0.8292342342342343, 0.8325225225225226, 0.8426126126126127, 0.8426126126126127, 0.8426126126126127, 0.8527927927927927, 0.8527927927927927, 0.8527927927927927, 0.8527927927927927, 0.8527927927927927, 0.8527927927927927, 0.8527927927927927, 0.8527927927927927, 0.8527927927927927, 0.8527927927927927, 0.8527927927927927, 0.8527927927927927, 0.8527927927927927, 0.8527927927927927, 0.8761261261261261]}], \"f1_score_macro\": [{\"categories\": [\"0\", \"1\", \"6\", \"7\", \"11\", \"13\", \"17\", \"20\", \"22\", \"24\", \"25\", \"26\", \"27\", \"28\", \"29\", \"30\", \"31\", \"32\", \"33\", \"34\", \"35\", \"36\", \"38\", \"39\", \"40\", \"42\", \"44\", \"45\"], \"mode\": \"markers\", \"name\": \"f1_score_macro\", \"stepped\": false, \"type\": \"scatter\", \"data\": [0.7915392891119759, 0.7989425786959168, 0.7779379835130895, 0.7535579433505621, 0.808502292573785, 0.5004256488714967, 0.7795121842521181, 0.7736209810221275, 0.7769472340520339, 0.7962432891910851, 0.8088163560238029, 0.7778426018908704, 0.7982688042235083, 0.825114590615533, 0.7971820466855224, 0.8005654549412116, 0.7772865203867846, 0.8244488932844072, 0.7934216629235427, 0.8114539704252474, 0.7737349805359452, 0.803765521562652, 0.7922590403106443, 0.8041179419046005, 0.4028479422190175, 0.8030575399371603, 0.7602236859984481, 0.8510708268396265]}, {\"categories\": [\"0\", \"1\", \"6\", \"7\", \"11\", \"13\", \"17\", \"20\", \"22\", \"24\", \"25\", \"26\", \"27\", \"28\", \"29\", \"30\", \"31\", \"32\", \"33\", \"34\", \"35\", \"36\", \"38\", \"39\", \"40\", \"42\", \"44\", \"45\"], \"mode\": \"lines\", \"name\": \"f1_score_macro_max\", \"stepped\": true, \"type\": \"scatter\", \"data\": [0.7915392891119759, 0.7989425786959168, 0.7989425786959168, 0.7989425786959168, 0.808502292573785, 0.808502292573785, 0.808502292573785, 0.808502292573785, 0.808502292573785, 0.808502292573785, 0.8088163560238029, 0.8088163560238029, 0.8088163560238029, 0.825114590615533, 0.825114590615533, 0.825114590615533, 0.825114590615533, 0.825114590615533, 0.825114590615533, 0.825114590615533, 0.825114590615533, 0.825114590615533, 0.825114590615533, 0.825114590615533, 0.825114590615533, 0.825114590615533, 0.825114590615533, 0.8510708268396265]}], \"AUC_weighted\": [{\"categories\": [\"0\", \"1\", \"6\", \"7\", \"11\", \"13\", \"17\", \"20\", \"22\", \"24\", \"25\", \"26\", \"27\", \"28\", \"29\", \"30\", \"31\", \"32\", \"33\", \"34\", \"35\", \"36\", \"38\", \"39\", \"40\", \"42\", \"44\", \"45\"], \"mode\": \"markers\", \"name\": \"AUC_weighted\", \"stepped\": false, \"type\": \"scatter\", \"data\": [0.8859521958215462, 0.888896438490365, 0.8624833721938241, 0.8951478906634274, 0.9080299565469058, 0.8269088432753687, 0.8600156206264964, 0.8617743975265162, 0.8806715680479806, 0.905861522475223, 0.8951392625474546, 0.8853791224730491, 0.8896780345491504, 0.8969334520888192, 0.9070949311856797, 0.8792614655432452, 0.8701122911927996, 0.9031679197816205, 0.8645702340529318, 0.902996372284861, 0.901759048651704, 0.8989101356244718, 0.8963248854226962, 0.8884186820450946, 0.536470201238916, 0.8964467618069313, 0.876061903674898, 0.9093614209080312]}, {\"categories\": [\"0\", \"1\", \"6\", \"7\", \"11\", \"13\", \"17\", \"20\", \"22\", \"24\", \"25\", \"26\", \"27\", \"28\", \"29\", \"30\", \"31\", \"32\", \"33\", \"34\", \"35\", \"36\", \"38\", \"39\", \"40\", \"42\", \"44\", \"45\"], \"mode\": \"lines\", \"name\": \"AUC_weighted_max\", \"stepped\": true, \"type\": \"scatter\", \"data\": [0.8859521958215462, 0.888896438490365, 0.888896438490365, 0.8951478906634274, 0.9080299565469058, 0.9080299565469058, 0.9080299565469058, 0.9080299565469058, 0.9080299565469058, 0.9080299565469058, 0.9080299565469058, 0.9080299565469058, 0.9080299565469058, 0.9080299565469058, 0.9080299565469058, 0.9080299565469058, 0.9080299565469058, 0.9080299565469058, 0.9080299565469058, 0.9080299565469058, 0.9080299565469058, 0.9080299565469058, 0.9080299565469058, 0.9080299565469058, 0.9080299565469058, 0.9080299565469058, 0.9080299565469058, 0.9093614209080312]}], \"recall_score_weighted\": [{\"categories\": [\"0\", \"1\", \"6\", \"7\", \"11\", \"13\", \"17\", \"20\", \"22\", \"24\", \"25\", \"26\", \"27\", \"28\", \"29\", \"30\", \"31\", \"32\", \"33\", \"34\", \"35\", \"36\", \"38\", \"39\", \"40\", \"42\", \"44\", \"45\"], \"mode\": \"markers\", \"name\": \"recall_score_weighted\", \"stepped\": false, \"type\": \"scatter\", \"data\": [0.825945945945946, 0.8292342342342343, 0.8024324324324325, 0.8127477477477478, 0.8290540540540541, 0.7125225225225225, 0.8192342342342342, 0.8124774774774774, 0.8093243243243243, 0.8325225225225226, 0.8426126126126127, 0.8191891891891891, 0.835945945945946, 0.8527927927927927, 0.8290990990990991, 0.8392792792792793, 0.8191891891891891, 0.8526576576576577, 0.8325225225225226, 0.8461261261261261, 0.8192792792792793, 0.8323423423423423, 0.8223873873873874, 0.836036036036036, 0.6790990990990992, 0.8359009009009009, 0.8193243243243243, 0.8761261261261261]}, {\"categories\": [\"0\", \"1\", \"6\", \"7\", \"11\", \"13\", \"17\", \"20\", \"22\", \"24\", \"25\", \"26\", \"27\", \"28\", \"29\", \"30\", \"31\", \"32\", \"33\", \"34\", \"35\", \"36\", \"38\", \"39\", \"40\", \"42\", \"44\", \"45\"], \"mode\": \"lines\", \"name\": \"recall_score_weighted_max\", \"stepped\": true, \"type\": \"scatter\", \"data\": [0.825945945945946, 0.8292342342342343, 0.8292342342342343, 0.8292342342342343, 0.8292342342342343, 0.8292342342342343, 0.8292342342342343, 0.8292342342342343, 0.8292342342342343, 0.8325225225225226, 0.8426126126126127, 0.8426126126126127, 0.8426126126126127, 0.8527927927927927, 0.8527927927927927, 0.8527927927927927, 0.8527927927927927, 0.8527927927927927, 0.8527927927927927, 0.8527927927927927, 0.8527927927927927, 0.8527927927927927, 0.8527927927927927, 0.8527927927927927, 0.8527927927927927, 0.8527927927927927, 0.8527927927927927, 0.8761261261261261]}], \"norm_macro_recall\": [{\"categories\": [\"0\", \"1\", \"6\", \"7\", \"11\", \"13\", \"17\", \"20\", \"22\", \"24\", \"25\", \"26\", \"27\", \"28\", \"29\", \"30\", \"31\", \"32\", \"33\", \"34\", \"35\", \"36\", \"38\", \"39\", \"40\", \"42\", \"44\", \"45\"], \"mode\": \"markers\", \"name\": \"norm_macro_recall\", \"stepped\": false, \"type\": \"scatter\", \"data\": [0.5796928373729222, 0.5862990274007223, 0.5906011028362723, 0.4768639532940381, 0.6475439932007728, 0.09870580808080809, 0.5593871014421863, 0.5437019763820612, 0.5636695598030343, 0.589756269311354, 0.6170079528130376, 0.548184274137664, 0.5914397709948558, 0.6369543905560855, 0.6023690037990885, 0.5885462524763372, 0.543193894147284, 0.6403499533266483, 0.5719502072785971, 0.6075457459991358, 0.5323112582646481, 0.6068407796691694, 0.5995867421185217, 0.5985735839019737, 0.0, 0.6012085646619545, 0.48371064356233845, 0.6908730413497363]}, {\"categories\": [\"0\", \"1\", \"6\", \"7\", \"11\", \"13\", \"17\", \"20\", \"22\", \"24\", \"25\", \"26\", \"27\", \"28\", \"29\", \"30\", \"31\", \"32\", \"33\", \"34\", \"35\", \"36\", \"38\", \"39\", \"40\", \"42\", \"44\", \"45\"], \"mode\": \"lines\", \"name\": \"norm_macro_recall_max\", \"stepped\": true, \"type\": \"scatter\", \"data\": [0.5796928373729222, 0.5862990274007223, 0.5906011028362723, 0.5906011028362723, 0.6475439932007728, 0.6475439932007728, 0.6475439932007728, 0.6475439932007728, 0.6475439932007728, 0.6475439932007728, 0.6475439932007728, 0.6475439932007728, 0.6475439932007728, 0.6475439932007728, 0.6475439932007728, 0.6475439932007728, 0.6475439932007728, 0.6475439932007728, 0.6475439932007728, 0.6475439932007728, 0.6475439932007728, 0.6475439932007728, 0.6475439932007728, 0.6475439932007728, 0.6475439932007728, 0.6475439932007728, 0.6475439932007728, 0.6908730413497363]}], \"recall_score_macro\": [{\"categories\": [\"0\", \"1\", \"6\", \"7\", \"11\", \"13\", \"17\", \"20\", \"22\", \"24\", \"25\", \"26\", \"27\", \"28\", \"29\", \"30\", \"31\", \"32\", \"33\", \"34\", \"35\", \"36\", \"38\", \"39\", \"40\", \"42\", \"44\", \"45\"], \"mode\": \"markers\", \"name\": \"recall_score_macro\", \"stepped\": false, \"type\": \"scatter\", \"data\": [0.7898464186864611, 0.7931495137003612, 0.7953005514181362, 0.7384319766470191, 0.8237719966003865, 0.549352904040404, 0.7796935507210931, 0.7718509881910306, 0.7818347799015173, 0.794878134655677, 0.8085039764065187, 0.774092137068832, 0.7957198854974279, 0.8184771952780427, 0.8011845018995443, 0.7942731262381686, 0.771596947073642, 0.8201749766633242, 0.7859751036392986, 0.8037728729995679, 0.766155629132324, 0.8034203898345846, 0.7997933710592608, 0.7992867919509868, 0.5, 0.8006042823309772, 0.7418553217811692, 0.8454365206748682]}, {\"categories\": [\"0\", \"1\", \"6\", \"7\", \"11\", \"13\", \"17\", \"20\", \"22\", \"24\", \"25\", \"26\", \"27\", \"28\", \"29\", \"30\", \"31\", \"32\", \"33\", \"34\", \"35\", \"36\", \"38\", \"39\", \"40\", \"42\", \"44\", \"45\"], \"mode\": \"lines\", \"name\": \"recall_score_macro_max\", \"stepped\": true, \"type\": \"scatter\", \"data\": [0.7898464186864611, 0.7931495137003612, 0.7953005514181362, 0.7953005514181362, 0.8237719966003865, 0.8237719966003865, 0.8237719966003865, 0.8237719966003865, 0.8237719966003865, 0.8237719966003865, 0.8237719966003865, 0.8237719966003865, 0.8237719966003865, 0.8237719966003865, 0.8237719966003865, 0.8237719966003865, 0.8237719966003865, 0.8237719966003865, 0.8237719966003865, 0.8237719966003865, 0.8237719966003865, 0.8237719966003865, 0.8237719966003865, 0.8237719966003865, 0.8237719966003865, 0.8237719966003865, 0.8237719966003865, 0.8454365206748682]}], \"precision_score_weighted\": [{\"categories\": [\"0\", \"1\", \"6\", \"7\", \"11\", \"13\", \"17\", \"20\", \"22\", \"24\", \"25\", \"26\", \"27\", \"28\", \"29\", \"30\", \"31\", \"32\", \"33\", \"34\", \"35\", \"36\", \"38\", \"39\", \"40\", \"42\", \"44\", \"45\"], \"mode\": \"markers\", \"name\": \"precision_score_weighted\", \"stepped\": false, \"type\": \"scatter\", \"data\": [0.8263286460903094, 0.8353310043003384, 0.8200871789160016, 0.826771483436712, 0.845089484263312, 0.8040105951021443, 0.8331317223046546, 0.8221919605178223, 0.8132268574347932, 0.8385224818629075, 0.8477087006941932, 0.8230182973354478, 0.8419408972849526, 0.856923737383752, 0.8433501916669169, 0.8453417217149167, 0.8245188821307695, 0.8576745463262199, 0.8384985800418934, 0.8538856448221772, 0.8286339459879437, 0.8470857955857956, 0.8424813197952944, 0.8398680823680823, 0.46863748072396716, 0.8422000868135077, 0.8268610795091058, 0.8850265923818555]}, {\"categories\": [\"0\", \"1\", \"6\", \"7\", \"11\", \"13\", \"17\", \"20\", \"22\", \"24\", \"25\", \"26\", \"27\", \"28\", \"29\", \"30\", \"31\", \"32\", \"33\", \"34\", \"35\", \"36\", \"38\", \"39\", \"40\", \"42\", \"44\", \"45\"], \"mode\": \"lines\", \"name\": \"precision_score_weighted_max\", \"stepped\": true, \"type\": \"scatter\", \"data\": [0.8263286460903094, 0.8353310043003384, 0.8353310043003384, 0.8353310043003384, 0.845089484263312, 0.845089484263312, 0.845089484263312, 0.845089484263312, 0.845089484263312, 0.845089484263312, 0.8477087006941932, 0.8477087006941932, 0.8477087006941932, 0.856923737383752, 0.856923737383752, 0.856923737383752, 0.856923737383752, 0.8576745463262199, 0.8576745463262199, 0.8576745463262199, 0.8576745463262199, 0.8576745463262199, 0.8576745463262199, 0.8576745463262199, 0.8576745463262199, 0.8576745463262199, 0.8576745463262199, 0.8850265923818555]}], \"log_loss\": [{\"categories\": [\"0\", \"1\", \"6\", \"7\", \"11\", \"13\", \"17\", \"20\", \"22\", \"24\", \"25\", \"26\", \"27\", \"28\", \"29\", \"30\", \"31\", \"32\", \"33\", \"34\", \"35\", \"36\", \"38\", \"39\", \"40\", \"42\", \"44\", \"45\"], \"mode\": \"markers\", \"name\": \"log_loss\", \"stepped\": false, \"type\": \"scatter\", \"data\": [0.4862782439584045, 0.4986406294628474, 0.45597672570291925, 0.47890155129760437, 0.4676208264796181, 0.5275271120417968, 0.43304627644570937, 0.43271037119348965, 0.41456059003210394, 0.37609668828478116, 0.3698555752826583, 0.43011652776137427, 0.6936031890781845, 0.37694480117723256, 0.5648129337920689, 0.4384672549687127, 0.4204611978197397, 0.3712349310003326, 0.42704334472060973, 0.3748545495049496, 0.41667143080830876, 0.3838281749496102, 0.38686966519811805, 0.4389804188805213, 0.6430516472153556, 0.3835266753026512, 0.4594399587089692, 0.43954979309064335]}, {\"categories\": [\"0\", \"1\", \"6\", \"7\", \"11\", \"13\", \"17\", \"20\", \"22\", \"24\", \"25\", \"26\", \"27\", \"28\", \"29\", \"30\", \"31\", \"32\", \"33\", \"34\", \"35\", \"36\", \"38\", \"39\", \"40\", \"42\", \"44\", \"45\"], \"mode\": \"lines\", \"name\": \"log_loss_min\", \"stepped\": true, \"type\": \"scatter\", \"data\": [0.4862782439584045, 0.4862782439584045, 0.45597672570291925, 0.45597672570291925, 0.45597672570291925, 0.45597672570291925, 0.43304627644570937, 0.43271037119348965, 0.41456059003210394, 0.37609668828478116, 0.3698555752826583, 0.3698555752826583, 0.3698555752826583, 0.3698555752826583, 0.3698555752826583, 0.3698555752826583, 0.3698555752826583, 0.3698555752826583, 0.3698555752826583, 0.3698555752826583, 0.3698555752826583, 0.3698555752826583, 0.3698555752826583, 0.3698555752826583, 0.3698555752826583, 0.3698555752826583, 0.3698555752826583, 0.3698555752826583]}], \"precision_score_micro\": [{\"categories\": [\"0\", \"1\", \"6\", \"7\", \"11\", \"13\", \"17\", \"20\", \"22\", \"24\", \"25\", \"26\", \"27\", \"28\", \"29\", \"30\", \"31\", \"32\", \"33\", \"34\", \"35\", \"36\", \"38\", \"39\", \"40\", \"42\", \"44\", \"45\"], \"mode\": \"markers\", \"name\": \"precision_score_micro\", \"stepped\": false, \"type\": \"scatter\", \"data\": [0.825945945945946, 0.8292342342342343, 0.8024324324324325, 0.8127477477477478, 0.8290540540540541, 0.7125225225225225, 0.8192342342342342, 0.8124774774774774, 0.8093243243243243, 0.8325225225225226, 0.8426126126126127, 0.8191891891891891, 0.835945945945946, 0.8527927927927927, 0.8290990990990991, 0.8392792792792793, 0.8191891891891891, 0.8526576576576577, 0.8325225225225226, 0.8461261261261261, 0.8192792792792793, 0.8323423423423423, 0.8223873873873874, 0.836036036036036, 0.6790990990990992, 0.8359009009009009, 0.8193243243243243, 0.8761261261261261]}, {\"categories\": [\"0\", \"1\", \"6\", \"7\", \"11\", \"13\", \"17\", \"20\", \"22\", \"24\", \"25\", \"26\", \"27\", \"28\", \"29\", \"30\", \"31\", \"32\", \"33\", \"34\", \"35\", \"36\", \"38\", \"39\", \"40\", \"42\", \"44\", \"45\"], \"mode\": \"lines\", \"name\": \"precision_score_micro_max\", \"stepped\": true, \"type\": \"scatter\", \"data\": [0.825945945945946, 0.8292342342342343, 0.8292342342342343, 0.8292342342342343, 0.8292342342342343, 0.8292342342342343, 0.8292342342342343, 0.8292342342342343, 0.8292342342342343, 0.8325225225225226, 0.8426126126126127, 0.8426126126126127, 0.8426126126126127, 0.8527927927927927, 0.8527927927927927, 0.8527927927927927, 0.8527927927927927, 0.8527927927927927, 0.8527927927927927, 0.8527927927927927, 0.8527927927927927, 0.8527927927927927, 0.8527927927927927, 0.8527927927927927, 0.8527927927927927, 0.8527927927927927, 0.8527927927927927, 0.8761261261261261]}], \"average_precision_score_micro\": [{\"categories\": [\"0\", \"1\", \"6\", \"7\", \"11\", \"13\", \"17\", \"20\", \"22\", \"24\", \"25\", \"26\", \"27\", \"28\", \"29\", \"30\", \"31\", \"32\", \"33\", \"34\", \"35\", \"36\", \"38\", \"39\", \"40\", \"42\", \"44\", \"45\"], \"mode\": \"markers\", \"name\": \"average_precision_score_micro\", \"stepped\": false, \"type\": \"scatter\", \"data\": [0.901211140104835, 0.9043349055213183, 0.8677769972697678, 0.882779251200916, 0.9122847602600311, 0.826597609087022, 0.8808183315004514, 0.8828308861123597, 0.8961764734819674, 0.9161490846492466, 0.9108585853878531, 0.8955293320778086, 0.8971296808050224, 0.9077829655065963, 0.9053236827961557, 0.8776571544194347, 0.8832662975968193, 0.9147946929696812, 0.8626164960974823, 0.9123709020057735, 0.902505505239787, 0.90879864879134, 0.9052171345387475, 0.9004617105221655, 0.6584547150936781, 0.9088443816561943, 0.8866539594052303, 0.9157819933205579]}, {\"categories\": [\"0\", \"1\", \"6\", \"7\", \"11\", \"13\", \"17\", \"20\", \"22\", \"24\", \"25\", \"26\", \"27\", \"28\", \"29\", \"30\", \"31\", \"32\", \"33\", \"34\", \"35\", \"36\", \"38\", \"39\", \"40\", \"42\", \"44\", \"45\"], \"mode\": \"lines\", \"name\": \"average_precision_score_micro_max\", \"stepped\": true, \"type\": \"scatter\", \"data\": [0.901211140104835, 0.9043349055213183, 0.9043349055213183, 0.9043349055213183, 0.9122847602600311, 0.9122847602600311, 0.9122847602600311, 0.9122847602600311, 0.9122847602600311, 0.9161490846492466, 0.9161490846492466, 0.9161490846492466, 0.9161490846492466, 0.9161490846492466, 0.9161490846492466, 0.9161490846492466, 0.9161490846492466, 0.9161490846492466, 0.9161490846492466, 0.9161490846492466, 0.9161490846492466, 0.9161490846492466, 0.9161490846492466, 0.9161490846492466, 0.9161490846492466, 0.9161490846492466, 0.9161490846492466, 0.9161490846492466]}], \"weighted_accuracy\": [{\"categories\": [\"0\", \"1\", \"6\", \"7\", \"11\", \"13\", \"17\", \"20\", \"22\", \"24\", \"25\", \"26\", \"27\", \"28\", \"29\", \"30\", \"31\", \"32\", \"33\", \"34\", \"35\", \"36\", \"38\", \"39\", \"40\", \"42\", \"44\", \"45\"], \"mode\": \"markers\", \"name\": \"weighted_accuracy\", \"stepped\": false, \"type\": \"scatter\", \"data\": [0.8509254276713047, 0.8536864079885044, 0.8061427141562728, 0.8623582196379311, 0.8320929703795802, 0.8195316478869628, 0.8470498794571432, 0.8399402114019253, 0.8284884460455535, 0.8578795125920267, 0.8660274442897635, 0.8498089235876107, 0.8631301598061204, 0.8762819499186528, 0.849032863951848, 0.8705485574322331, 0.8519299144546348, 0.8743645319291435, 0.8635518968325149, 0.876257132378348, 0.8564098595809684, 0.8522846261544555, 0.837642075258659, 0.8608966968306857, 0.7972022593522936, 0.860111323927749, 0.8701775815572619, 0.8973997683594912]}, {\"categories\": [\"0\", \"1\", \"6\", \"7\", \"11\", \"13\", \"17\", \"20\", \"22\", \"24\", \"25\", \"26\", \"27\", \"28\", \"29\", \"30\", \"31\", \"32\", \"33\", \"34\", \"35\", \"36\", \"38\", \"39\", \"40\", \"42\", \"44\", \"45\"], \"mode\": \"lines\", \"name\": \"weighted_accuracy_max\", \"stepped\": true, \"type\": \"scatter\", \"data\": [0.8509254276713047, 0.8536864079885044, 0.8536864079885044, 0.8623582196379311, 0.8623582196379311, 0.8623582196379311, 0.8623582196379311, 0.8623582196379311, 0.8623582196379311, 0.8623582196379311, 0.8660274442897635, 0.8660274442897635, 0.8660274442897635, 0.8762819499186528, 0.8762819499186528, 0.8762819499186528, 0.8762819499186528, 0.8762819499186528, 0.8762819499186528, 0.8762819499186528, 0.8762819499186528, 0.8762819499186528, 0.8762819499186528, 0.8762819499186528, 0.8762819499186528, 0.8762819499186528, 0.8762819499186528, 0.8973997683594912]}], \"balanced_accuracy\": [{\"categories\": [\"0\", \"1\", \"6\", \"7\", \"11\", \"13\", \"17\", \"20\", \"22\", \"24\", \"25\", \"26\", \"27\", \"28\", \"29\", \"30\", \"31\", \"32\", \"33\", \"34\", \"35\", \"36\", \"38\", \"39\", \"40\", \"42\", \"44\", \"45\"], \"mode\": \"markers\", \"name\": \"balanced_accuracy\", \"stepped\": false, \"type\": \"scatter\", \"data\": [0.7898464186864611, 0.7931495137003612, 0.7953005514181362, 0.7384319766470191, 0.8237719966003865, 0.549352904040404, 0.7796935507210931, 0.7718509881910306, 0.7818347799015173, 0.794878134655677, 0.8085039764065187, 0.774092137068832, 0.7957198854974279, 0.8184771952780427, 0.8011845018995443, 0.7942731262381686, 0.771596947073642, 0.8201749766633242, 0.7859751036392986, 0.8037728729995679, 0.766155629132324, 0.8034203898345846, 0.7997933710592608, 0.7992867919509868, 0.5, 0.8006042823309772, 0.7418553217811692, 0.8454365206748682]}, {\"categories\": [\"0\", \"1\", \"6\", \"7\", \"11\", \"13\", \"17\", \"20\", \"22\", \"24\", \"25\", \"26\", \"27\", \"28\", \"29\", \"30\", \"31\", \"32\", \"33\", \"34\", \"35\", \"36\", \"38\", \"39\", \"40\", \"42\", \"44\", \"45\"], \"mode\": \"lines\", \"name\": \"balanced_accuracy_max\", \"stepped\": true, \"type\": \"scatter\", \"data\": [0.7898464186864611, 0.7931495137003612, 0.7953005514181362, 0.7953005514181362, 0.8237719966003865, 0.8237719966003865, 0.8237719966003865, 0.8237719966003865, 0.8237719966003865, 0.8237719966003865, 0.8237719966003865, 0.8237719966003865, 0.8237719966003865, 0.8237719966003865, 0.8237719966003865, 0.8237719966003865, 0.8237719966003865, 0.8237719966003865, 0.8237719966003865, 0.8237719966003865, 0.8237719966003865, 0.8237719966003865, 0.8237719966003865, 0.8237719966003865, 0.8237719966003865, 0.8237719966003865, 0.8237719966003865, 0.8454365206748682]}], \"average_precision_score_macro\": [{\"categories\": [\"0\", \"1\", \"6\", \"7\", \"11\", \"13\", \"17\", \"20\", \"22\", \"24\", \"25\", \"26\", \"27\", \"28\", \"29\", \"30\", \"31\", \"32\", \"33\", \"34\", \"35\", \"36\", \"38\", \"39\", \"40\", \"42\", \"44\", \"45\"], \"mode\": \"markers\", \"name\": \"average_precision_score_macro\", \"stepped\": false, \"type\": \"scatter\", \"data\": [0.8721441836724315, 0.8698942826014595, 0.8384226850573844, 0.8783686020008816, 0.8916024240407625, 0.8086716092064359, 0.8389082214874426, 0.8412216303029294, 0.8596414351706316, 0.8902484070549855, 0.8816545117728671, 0.8658788428684661, 0.8623347712392275, 0.8833220167988205, 0.8904498028834121, 0.8466405229888352, 0.8557079109727689, 0.8826061021053431, 0.8304560674218943, 0.8884126580789095, 0.8861738817184435, 0.8677441807735198, 0.8725990625156975, 0.8676101691166332, 0.52331898406407, 0.8820001947640326, 0.8563754265102833, 0.8908619385144445]}, {\"categories\": [\"0\", \"1\", \"6\", \"7\", \"11\", \"13\", \"17\", \"20\", \"22\", \"24\", \"25\", \"26\", \"27\", \"28\", \"29\", \"30\", \"31\", \"32\", \"33\", \"34\", \"35\", \"36\", \"38\", \"39\", \"40\", \"42\", \"44\", \"45\"], \"mode\": \"lines\", \"name\": \"average_precision_score_macro_max\", \"stepped\": true, \"type\": \"scatter\", \"data\": [0.8721441836724315, 0.8721441836724315, 0.8721441836724315, 0.8783686020008816, 0.8916024240407625, 0.8916024240407625, 0.8916024240407625, 0.8916024240407625, 0.8916024240407625, 0.8916024240407625, 0.8916024240407625, 0.8916024240407625, 0.8916024240407625, 0.8916024240407625, 0.8916024240407625, 0.8916024240407625, 0.8916024240407625, 0.8916024240407625, 0.8916024240407625, 0.8916024240407625, 0.8916024240407625, 0.8916024240407625, 0.8916024240407625, 0.8916024240407625, 0.8916024240407625, 0.8916024240407625, 0.8916024240407625, 0.8916024240407625]}], \"precision_score_macro\": [{\"categories\": [\"0\", \"1\", \"6\", \"7\", \"11\", \"13\", \"17\", \"20\", \"22\", \"24\", \"25\", \"26\", \"27\", \"28\", \"29\", \"30\", \"31\", \"32\", \"33\", \"34\", \"35\", \"36\", \"38\", \"39\", \"40\", \"42\", \"44\", \"45\"], \"mode\": \"markers\", \"name\": \"precision_score_macro\", \"stepped\": false, \"type\": \"scatter\", \"data\": [0.8018714549996244, 0.8163985113468123, 0.7721700476017461, 0.8195947914131693, 0.8034879324413681, 0.8506891574673265, 0.8098591927405885, 0.7954022674178016, 0.7800973369365548, 0.8127789481349479, 0.8241603040099932, 0.8022129377562681, 0.8199479367637823, 0.8463456689841503, 0.8145043260719276, 0.8276150210670831, 0.8050193461383344, 0.8413437193360085, 0.8196969712532698, 0.8454422108569863, 0.8147671878753769, 0.8223513986013986, 0.8083800153083371, 0.821577380952381, 0.3395495495495496, 0.819905219075959, 0.828309983449786, 0.875390298663325]}, {\"categories\": [\"0\", \"1\", \"6\", \"7\", \"11\", \"13\", \"17\", \"20\", \"22\", \"24\", \"25\", \"26\", \"27\", \"28\", \"29\", \"30\", \"31\", \"32\", \"33\", \"34\", \"35\", \"36\", \"38\", \"39\", \"40\", \"42\", \"44\", \"45\"], \"mode\": \"lines\", \"name\": \"precision_score_macro_max\", \"stepped\": true, \"type\": \"scatter\", \"data\": [0.8018714549996244, 0.8163985113468123, 0.8163985113468123, 0.8195947914131693, 0.8195947914131693, 0.8506891574673265, 0.8506891574673265, 0.8506891574673265, 0.8506891574673265, 0.8506891574673265, 0.8506891574673265, 0.8506891574673265, 0.8506891574673265, 0.8506891574673265, 0.8506891574673265, 0.8506891574673265, 0.8506891574673265, 0.8506891574673265, 0.8506891574673265, 0.8506891574673265, 0.8506891574673265, 0.8506891574673265, 0.8506891574673265, 0.8506891574673265, 0.8506891574673265, 0.8506891574673265, 0.8506891574673265, 0.875390298663325]}], \"f1_score_micro\": [{\"categories\": [\"0\", \"1\", \"6\", \"7\", \"11\", \"13\", \"17\", \"20\", \"22\", \"24\", \"25\", \"26\", \"27\", \"28\", \"29\", \"30\", \"31\", \"32\", \"33\", \"34\", \"35\", \"36\", \"38\", \"39\", \"40\", \"42\", \"44\", \"45\"], \"mode\": \"markers\", \"name\": \"f1_score_micro\", \"stepped\": false, \"type\": \"scatter\", \"data\": [0.825945945945946, 0.8292342342342343, 0.8024324324324325, 0.8127477477477478, 0.8290540540540541, 0.7125225225225226, 0.8192342342342342, 0.8124774774774774, 0.8093243243243243, 0.8325225225225225, 0.8426126126126127, 0.8191891891891891, 0.835945945945946, 0.8527927927927927, 0.8290990990990991, 0.8392792792792793, 0.8191891891891891, 0.8526576576576578, 0.8325225225225225, 0.8461261261261261, 0.8192792792792793, 0.8323423423423423, 0.8223873873873874, 0.836036036036036, 0.6790990990990992, 0.8359009009009009, 0.8193243243243243, 0.8761261261261261]}, {\"categories\": [\"0\", \"1\", \"6\", \"7\", \"11\", \"13\", \"17\", \"20\", \"22\", \"24\", \"25\", \"26\", \"27\", \"28\", \"29\", \"30\", \"31\", \"32\", \"33\", \"34\", \"35\", \"36\", \"38\", \"39\", \"40\", \"42\", \"44\", \"45\"], \"mode\": \"lines\", \"name\": \"f1_score_micro_max\", \"stepped\": true, \"type\": \"scatter\", \"data\": [0.825945945945946, 0.8292342342342343, 0.8292342342342343, 0.8292342342342343, 0.8292342342342343, 0.8292342342342343, 0.8292342342342343, 0.8292342342342343, 0.8292342342342343, 0.8325225225225225, 0.8426126126126127, 0.8426126126126127, 0.8426126126126127, 0.8527927927927927, 0.8527927927927927, 0.8527927927927927, 0.8527927927927927, 0.8527927927927927, 0.8527927927927927, 0.8527927927927927, 0.8527927927927927, 0.8527927927927927, 0.8527927927927927, 0.8527927927927927, 0.8527927927927927, 0.8527927927927927, 0.8527927927927927, 0.8761261261261261]}], \"AUC_micro\": [{\"categories\": [\"0\", \"1\", \"6\", \"7\", \"11\", \"13\", \"17\", \"20\", \"22\", \"24\", \"25\", \"26\", \"27\", \"28\", \"29\", \"30\", \"31\", \"32\", \"33\", \"34\", \"35\", \"36\", \"38\", \"39\", \"40\", \"42\", \"44\", \"45\"], \"mode\": \"markers\", \"name\": \"AUC_micro\", \"stepped\": false, \"type\": \"scatter\", \"data\": [0.9012668614560506, 0.9012447934420907, 0.8664251602954305, 0.8822570327083841, 0.9113527392257121, 0.8200665692719747, 0.882063233503774, 0.8820094229364499, 0.8928317912507101, 0.9138754808862918, 0.9099026864702541, 0.8947447122798473, 0.9034192435678923, 0.9086500771041311, 0.9025914373833294, 0.8799459297134973, 0.8830543137732327, 0.9110488677867056, 0.8804290723155588, 0.9146549143738333, 0.9018558233909584, 0.9067680058436816, 0.903363623082542, 0.899040402564727, 0.6926340881421962, 0.9081351919487055, 0.8814125882639396, 0.9120317831344857]}, {\"categories\": [\"0\", \"1\", \"6\", \"7\", \"11\", \"13\", \"17\", \"20\", \"22\", \"24\", \"25\", \"26\", \"27\", \"28\", \"29\", \"30\", \"31\", \"32\", \"33\", \"34\", \"35\", \"36\", \"38\", \"39\", \"40\", \"42\", \"44\", \"45\"], \"mode\": \"lines\", \"name\": \"AUC_micro_max\", \"stepped\": true, \"type\": \"scatter\", \"data\": [0.9012668614560506, 0.9012668614560506, 0.9012668614560506, 0.9012668614560506, 0.9113527392257121, 0.9113527392257121, 0.9113527392257121, 0.9113527392257121, 0.9113527392257121, 0.9138754808862918, 0.9138754808862918, 0.9138754808862918, 0.9138754808862918, 0.9138754808862918, 0.9138754808862918, 0.9138754808862918, 0.9138754808862918, 0.9138754808862918, 0.9138754808862918, 0.9146549143738333, 0.9146549143738333, 0.9146549143738333, 0.9146549143738333, 0.9146549143738333, 0.9146549143738333, 0.9146549143738333, 0.9146549143738333, 0.9146549143738333]}]}, \"metricName\": null, \"primaryMetricName\": \"accuracy\", \"showLegend\": false}, \"run_metrics\": [{\"name\": \"experiment_status\", \"run_id\": \"AutoML_559ccef3-9e95-4d1b-9201-2eef6bd98251\", \"categories\": [0, 1, 2, 3, 4, 5, 6, 7, 8, 9, 10, 11, 12, 13], \"series\": [{\"data\": [\"DatasetEvaluation\", \"FeaturesGeneration\", \"DatasetFeaturization\", \"DatasetFeaturizationCompleted\", \"DatasetCrossValidationSplit\", \"ModelSelection\", \"BestRunExplainModel\", \"ModelExplanationDataSetSetup\", \"PickSurrogateModel\", \"EngineeredFeatureExplanations\", \"EngineeredFeatureExplanations\", \"RawFeaturesExplanations\", \"RawFeaturesExplanations\", \"BestRunExplainModel\"]}]}, {\"name\": \"experiment_status_description\", \"run_id\": \"AutoML_559ccef3-9e95-4d1b-9201-2eef6bd98251\", \"categories\": [0, 1, 2, 3, 4, 5, 6, 7, 8, 9, 10, 11, 12, 13], \"series\": [{\"data\": [\"Gathering dataset statistics.\", \"Generating features for the dataset.\", \"Beginning to fit featurizers and featurize the dataset.\", \"Completed fit featurizers and featurizing the dataset.\", \"Generating individually featurized CV splits.\", \"Beginning model selection.\", \"Best run model explanations started\", \"Model explanations data setup completed\", \"Choosing LightGBM as the surrogate model for explanations\", \"Computation of engineered features started\", \"Computation of engineered features completed\", \"Computation of raw features started\", \"Computation of raw features completed\", \"Best run model explanations completed\"]}]}, {\"name\": \"weighted_accuracy\", \"run_id\": \"AutoML_559ccef3-9e95-4d1b-9201-2eef6bd98251\", \"categories\": [0], \"series\": [{\"data\": [0.8973997683594912]}]}, {\"name\": \"precision_score_weighted\", \"run_id\": \"AutoML_559ccef3-9e95-4d1b-9201-2eef6bd98251\", \"categories\": [0], \"series\": [{\"data\": [0.8850265923818555]}]}, {\"name\": \"balanced_accuracy\", \"run_id\": \"AutoML_559ccef3-9e95-4d1b-9201-2eef6bd98251\", \"categories\": [0], \"series\": [{\"data\": [0.8454365206748682]}]}, {\"name\": \"precision_score_micro\", \"run_id\": \"AutoML_559ccef3-9e95-4d1b-9201-2eef6bd98251\", \"categories\": [0], \"series\": [{\"data\": [0.8761261261261261]}]}, {\"name\": \"f1_score_micro\", \"run_id\": \"AutoML_559ccef3-9e95-4d1b-9201-2eef6bd98251\", \"categories\": [0], \"series\": [{\"data\": [0.8761261261261261]}]}, {\"name\": \"average_precision_score_macro\", \"run_id\": \"AutoML_559ccef3-9e95-4d1b-9201-2eef6bd98251\", \"categories\": [0], \"series\": [{\"data\": [0.8908619385144445]}]}, {\"name\": \"norm_macro_recall\", \"run_id\": \"AutoML_559ccef3-9e95-4d1b-9201-2eef6bd98251\", \"categories\": [0], \"series\": [{\"data\": [0.6908730413497363]}]}, {\"name\": \"f1_score_macro\", \"run_id\": \"AutoML_559ccef3-9e95-4d1b-9201-2eef6bd98251\", \"categories\": [0], \"series\": [{\"data\": [0.8510708268396265]}]}, {\"name\": \"recall_score_micro\", \"run_id\": \"AutoML_559ccef3-9e95-4d1b-9201-2eef6bd98251\", \"categories\": [0], \"series\": [{\"data\": [0.8761261261261261]}]}, {\"name\": \"recall_score_macro\", \"run_id\": \"AutoML_559ccef3-9e95-4d1b-9201-2eef6bd98251\", \"categories\": [0], \"series\": [{\"data\": [0.8454365206748682]}]}, {\"name\": \"accuracy\", \"run_id\": \"AutoML_559ccef3-9e95-4d1b-9201-2eef6bd98251\", \"categories\": [0], \"series\": [{\"data\": [0.8761261261261261]}]}, {\"name\": \"average_precision_score_micro\", \"run_id\": \"AutoML_559ccef3-9e95-4d1b-9201-2eef6bd98251\", \"categories\": [0], \"series\": [{\"data\": [0.9157819933205579]}]}, {\"name\": \"recall_score_weighted\", \"run_id\": \"AutoML_559ccef3-9e95-4d1b-9201-2eef6bd98251\", \"categories\": [0], \"series\": [{\"data\": [0.8761261261261261]}]}, {\"name\": \"average_precision_score_weighted\", \"run_id\": \"AutoML_559ccef3-9e95-4d1b-9201-2eef6bd98251\", \"categories\": [0], \"series\": [{\"data\": [0.9167757852388063]}]}, {\"name\": \"AUC_weighted\", \"run_id\": \"AutoML_559ccef3-9e95-4d1b-9201-2eef6bd98251\", \"categories\": [0], \"series\": [{\"data\": [0.9093614209080312]}]}, {\"name\": \"matthews_correlation\", \"run_id\": \"AutoML_559ccef3-9e95-4d1b-9201-2eef6bd98251\", \"categories\": [0], \"series\": [{\"data\": [0.7193760100638562]}]}, {\"name\": \"precision_score_macro\", \"run_id\": \"AutoML_559ccef3-9e95-4d1b-9201-2eef6bd98251\", \"categories\": [0], \"series\": [{\"data\": [0.875390298663325]}]}, {\"name\": \"f1_score_weighted\", \"run_id\": \"AutoML_559ccef3-9e95-4d1b-9201-2eef6bd98251\", \"categories\": [0], \"series\": [{\"data\": [0.8719385832788409]}]}, {\"name\": \"AUC_micro\", \"run_id\": \"AutoML_559ccef3-9e95-4d1b-9201-2eef6bd98251\", \"categories\": [0], \"series\": [{\"data\": [0.9120317831344857]}]}, {\"name\": \"AUC_macro\", \"run_id\": \"AutoML_559ccef3-9e95-4d1b-9201-2eef6bd98251\", \"categories\": [0], \"series\": [{\"data\": [0.909361420908031]}]}, {\"name\": \"log_loss\", \"run_id\": \"AutoML_559ccef3-9e95-4d1b-9201-2eef6bd98251\", \"categories\": [0], \"series\": [{\"data\": [0.43954979309064335]}]}], \"run_logs\": \"\\nRun is completed.\", \"graph\": {}, \"widget_settings\": {\"childWidgetDisplay\": \"popup\", \"send_telemetry\": false, \"log_level\": \"INFO\", \"sdk_version\": \"1.48.0\"}, \"loading\": false}"
     },
     "metadata": {},
     "output_type": "display_data"
    },
    {
     "data": {
      "text/html": [
       "<table style=\"width:100%\"><tr><th>Experiment</th><th>Id</th><th>Type</th><th>Status</th><th>Details Page</th><th>Docs Page</th></tr><tr><td>automl_experiment</td><td>AutoML_559ccef3-9e95-4d1b-9201-2eef6bd98251</td><td>automl</td><td>NotStarted</td><td><a href=\"https://ml.azure.com/runs/AutoML_559ccef3-9e95-4d1b-9201-2eef6bd98251?wsid=/subscriptions/cdbe0b43-92a0-4715-838a-f2648cc7ad21/resourcegroups/aml-quickstarts-225458/workspaces/quick-starts-ws-225458&amp;tid=660b3398-b80e-49d2-bc5b-ac1dc93b5254\" target=\"_blank\" rel=\"noopener\">Link to Azure Machine Learning studio</a></td><td><a href=\"https://docs.microsoft.com/en-us/python/api/overview/azure/ml/intro?view=azure-ml-py\" target=\"_blank\" rel=\"noopener\">Link to Documentation</a></td></tr></table>"
      ],
      "text/plain": [
       "<IPython.core.display.HTML object>"
      ]
     },
     "metadata": {},
     "output_type": "display_data"
    },
    {
     "name": "stdout",
     "output_type": "stream",
     "text": [
      "\n",
      "Current status: FeaturesGeneration. Generating features for the dataset.\n",
      "Current status: ModelSelection. Beginning model selection.\n",
      "\n",
      "********************************************************************************************\n",
      "DATA GUARDRAILS: \n",
      "\n",
      "TYPE:         Class balancing detection\n",
      "STATUS:       PASSED\n",
      "DESCRIPTION:  Your inputs were analyzed, and all classes are balanced in your training data.\n",
      "              Learn more about imbalanced data: https://aka.ms/AutomatedMLImbalancedData\n",
      "\n",
      "********************************************************************************************\n",
      "\n",
      "TYPE:         Missing feature values imputation\n",
      "STATUS:       PASSED\n",
      "DESCRIPTION:  No feature missing values were detected in the training data.\n",
      "              Learn more about missing value imputation: https://aka.ms/AutomatedMLFeaturization\n",
      "\n",
      "********************************************************************************************\n",
      "\n",
      "TYPE:         High cardinality feature detection\n",
      "STATUS:       PASSED\n",
      "DESCRIPTION:  Your inputs were analyzed, and no high cardinality features were detected.\n",
      "              Learn more about high cardinality feature handling: https://aka.ms/AutomatedMLFeaturization\n",
      "\n",
      "********************************************************************************************\n",
      "\n",
      "********************************************************************************************\n",
      "ITER: The iteration being evaluated.\n",
      "PIPELINE: A summary description of the pipeline being evaluated.\n",
      "DURATION: Time taken for the current iteration.\n",
      "METRIC: The result of computing score on the fitted pipeline.\n",
      "BEST: The best observed score thus far.\n",
      "********************************************************************************************\n",
      "\n",
      " ITER   PIPELINE                                       DURATION            METRIC      BEST\n",
      "    0   MaxAbsScaler LightGBM                          0:00:10             0.8259    0.8259\n",
      "    1   MaxAbsScaler XGBoostClassifier                 0:00:08             0.8292    0.8292\n",
      "    2   MaxAbsScaler ExtremeRandomTrees                0:00:09             0.8258    0.8292\n",
      "    3   SparseNormalizer XGBoostClassifier             0:00:11             0.7860    0.8292\n",
      "    4   StandardScalerWrapper KNN                      0:00:09             0.5953    0.8292\n",
      "    5   MaxAbsScaler LightGBM                          0:00:08             0.8460    0.8460\n",
      "    6   RobustScaler LogisticRegression                0:00:13             0.8024    0.8460\n",
      "    7   MaxAbsScaler LightGBM                          0:00:08             0.8127    0.8460\n",
      "    8   StandardScalerWrapper KNN                      0:00:09             0.6118    0.8460\n",
      "    9   StandardScalerWrapper SVM                      0:00:13             0.7490    0.8460\n",
      "   10   StandardScalerWrapper XGBoostClassifier        0:00:10             0.8392    0.8460\n",
      "   11   MinMaxScaler RandomForest                      0:00:11             0.8291    0.8460\n",
      "   12   StandardScalerWrapper LogisticRegression       0:00:08             0.7489    0.8460\n",
      "   13   StandardScalerWrapper KNN                      0:00:08             0.7125    0.8460\n",
      "   14   RobustScaler KNN                               0:00:14             0.7190    0.8460\n",
      "   15   MinMaxScaler KNN                               0:00:14             0.7257    0.8460\n",
      "   16   SparseNormalizer KNN                           0:00:08             0.7425    0.8460\n",
      "   17   MaxAbsScaler LogisticRegression                0:00:13             0.8192    0.8460\n",
      "   18   StandardScalerWrapper XGBoostClassifier        0:00:08             0.8458    0.8460\n",
      "   19   StandardScalerWrapper XGBoostClassifier        0:00:13             0.8426    0.8460\n",
      "   22   SparseNormalizer RandomForest                  0:00:29             0.8093    0.8460\n",
      "   24   StandardScalerWrapper XGBoostClassifier        0:00:22             0.8325    0.8460\n",
      "   23   StandardScalerWrapper RandomForest             0:00:23             0.8260    0.8460\n",
      "   20   MaxAbsScaler LogisticRegression                0:01:30             0.8125    0.8460\n",
      "   21   StandardScalerWrapper XGBoostClassifier        0:01:28             0.8459    0.8460\n",
      "   25   RobustScaler LightGBM                          0:00:28             0.8426    0.8460\n",
      "   26   SparseNormalizer XGBoostClassifier             0:00:27             0.8192    0.8460\n",
      "   27   RobustScaler RandomForest                      0:00:24             0.8359    0.8460\n",
      "   28   RobustScaler LightGBM                          0:00:26             0.8528    0.8528\n",
      "   29   StandardScalerWrapper XGBoostClassifier        0:00:24             0.8291    0.8528\n",
      "   30   StandardScalerWrapper LightGBM                 0:00:23             0.8393    0.8528\n",
      "   31   StandardScalerWrapper LightGBM                 0:00:29             0.8192    0.8528\n",
      "   32   StandardScalerWrapper XGBoostClassifier        0:00:30             0.8527    0.8528\n",
      "   33   StandardScalerWrapper XGBoostClassifier        0:00:28             0.8325    0.8528\n",
      "   34   StandardScalerWrapper LightGBM                 0:00:27             0.8461    0.8528\n",
      "   35   MinMaxScaler LightGBM                          0:00:24             0.8193    0.8528\n",
      "   36   MinMaxScaler RandomForest                      0:00:30             0.8323    0.8528\n",
      "   37   StandardScalerWrapper RandomForest             0:00:29             0.8460    0.8528\n",
      "   38   MinMaxScaler RandomForest                      0:00:29             0.8224    0.8528\n",
      "   39   SparseNormalizer XGBoostClassifier             0:00:23             0.8360    0.8528\n",
      "   40   PCA LightGBM                                   0:00:24             0.6791    0.8528\n",
      "   41   SparseNormalizer XGBoostClassifier             0:00:26             0.8293    0.8528\n",
      "   42   StandardScalerWrapper XGBoostClassifier        0:00:23             0.8359    0.8528\n",
      "   43                                                  0:00:07                nan    0.8528\n",
      "   44   SparseNormalizer XGBoostClassifier             0:00:05             0.8193    0.8528\n",
      "   45    VotingEnsemble                                0:00:48             0.8761    0.8761\n",
      "   46    StackEnsemble                                 0:00:48             0.8561    0.8761\n"
     ]
    },
    {
     "data": {
      "text/plain": [
       "{'runId': 'AutoML_559ccef3-9e95-4d1b-9201-2eef6bd98251',\n",
       " 'target': 'automl-cluster',\n",
       " 'status': 'Completed',\n",
       " 'startTimeUtc': '2023-02-11T12:35:41.273899Z',\n",
       " 'endTimeUtc': '2023-02-11T12:47:32.847023Z',\n",
       " 'services': {},\n",
       " 'warnings': [{'source': 'JasmineService',\n",
       "   'message': 'No scores improved over last 10 iterations, so experiment stopped early. This early stopping behavior can be disabled by setting enable_early_stopping = False in AutoMLConfig for notebook/python SDK runs.'}],\n",
       " 'properties': {'num_iterations': '1000',\n",
       "  'training_type': 'TrainFull',\n",
       "  'acquisition_function': 'EI',\n",
       "  'primary_metric': 'accuracy',\n",
       "  'train_split': '0',\n",
       "  'acquisition_parameter': '0',\n",
       "  'num_cross_validation': '4',\n",
       "  'target': 'automl-cluster',\n",
       "  'AMLSettingsJsonString': '{\"path\":null,\"name\":\"automl_experiment\",\"subscription_id\":\"cdbe0b43-92a0-4715-838a-f2648cc7ad21\",\"resource_group\":\"aml-quickstarts-225458\",\"workspace_name\":\"quick-starts-ws-225458\",\"region\":\"southcentralus\",\"compute_target\":\"automl-cluster\",\"spark_service\":null,\"azure_service\":\"remote\",\"many_models\":false,\"pipeline_fetch_max_batch_size\":1,\"enable_batch_run\":true,\"enable_parallel_run\":false,\"num_procs\":null,\"enable_run_restructure\":false,\"start_auxiliary_runs_before_parent_complete\":false,\"enable_code_generation\":true,\"iterations\":1000,\"primary_metric\":\"accuracy\",\"task_type\":\"classification\",\"positive_label\":null,\"data_script\":null,\"test_size\":0.0,\"test_include_predictions_only\":false,\"validation_size\":0.0,\"n_cross_validations\":4,\"y_min\":null,\"y_max\":null,\"num_classes\":null,\"featurization\":\"auto\",\"_ignore_package_version_incompatibilities\":false,\"is_timeseries\":false,\"max_cores_per_iteration\":1,\"max_concurrent_iterations\":4,\"iteration_timeout_minutes\":null,\"mem_in_mb\":null,\"enforce_time_on_windows\":false,\"experiment_timeout_minutes\":25,\"experiment_exit_score\":null,\"partition_column_names\":null,\"whitelist_models\":null,\"blacklist_algos\":[\"TensorFlowLinearClassifier\",\"TensorFlowDNN\"],\"supported_models\":[\"TensorFlowLinearClassifier\",\"XGBoostClassifier\",\"LogisticRegression\",\"SVM\",\"MultinomialNaiveBayes\",\"BernoulliNaiveBayes\",\"SGD\",\"KNN\",\"LinearSVM\",\"DecisionTree\",\"RandomForest\",\"ExtremeRandomTrees\",\"LightGBM\",\"AveragedPerceptronClassifier\",\"GradientBoosting\",\"TabnetClassifier\",\"TensorFlowDNN\"],\"private_models\":[],\"auto_blacklist\":true,\"blacklist_samples_reached\":false,\"exclude_nan_labels\":true,\"verbosity\":20,\"_debug_log\":\"azureml_automl.log\",\"show_warnings\":false,\"model_explainability\":true,\"service_url\":null,\"sdk_url\":null,\"sdk_packages\":null,\"enable_onnx_compatible_models\":false,\"enable_split_onnx_featurizer_estimator_models\":false,\"vm_type\":\"STANDARD_D2_V2\",\"telemetry_verbosity\":20,\"send_telemetry\":true,\"enable_dnn\":false,\"scenario\":\"AutoML\",\"environment_label\":null,\"save_mlflow\":false,\"enable_categorical_indicators\":false,\"force_text_dnn\":false,\"enable_feature_sweeping\":true,\"enable_early_stopping\":true,\"early_stopping_n_iters\":10,\"arguments\":null,\"dataset_id\":\"fb69269d-ae81-4477-926d-eae93724225c\",\"hyperdrive_config\":null,\"validation_dataset_id\":null,\"run_source\":null,\"metrics\":null,\"enable_metric_confidence\":false,\"enable_ensembling\":true,\"enable_stack_ensembling\":true,\"ensemble_iterations\":15,\"enable_tf\":false,\"enable_subsampling\":null,\"subsample_seed\":null,\"enable_nimbusml\":false,\"enable_streaming\":false,\"force_streaming\":false,\"track_child_runs\":true,\"n_best_runs\":1,\"allowed_private_models\":[],\"label_column_name\":\"DEATH_EVENT\",\"weight_column_name\":null,\"cv_split_column_names\":null,\"enable_local_managed\":false,\"_local_managed_run_id\":null,\"cost_mode\":1,\"lag_length\":0,\"metric_operation\":\"maximize\",\"preprocess\":true}',\n",
       "  'DataPrepJsonString': '{\\\\\"training_data\\\\\": {\\\\\"datasetId\\\\\": \\\\\"fb69269d-ae81-4477-926d-eae93724225c\\\\\"}, \\\\\"datasets\\\\\": 0}',\n",
       "  'EnableSubsampling': None,\n",
       "  'runTemplate': 'AutoML',\n",
       "  'azureml.runsource': 'automl',\n",
       "  'display_task_type': 'classification',\n",
       "  'dependencies_versions': '{\"azureml-widgets\": \"1.48.0\", \"azureml-training-tabular\": \"1.48.0\", \"azureml-train\": \"1.48.0\", \"azureml-train-restclients-hyperdrive\": \"1.48.0\", \"azureml-train-core\": \"1.48.0\", \"azureml-train-automl\": \"1.48.0\", \"azureml-train-automl-runtime\": \"1.48.0\", \"azureml-train-automl-client\": \"1.48.0\", \"azureml-tensorboard\": \"1.48.0\", \"azureml-telemetry\": \"1.48.0\", \"azureml-sdk\": \"1.48.0\", \"azureml-samples\": \"0+unknown\", \"azureml-responsibleai\": \"1.48.0\", \"azureml-pipeline\": \"1.48.0\", \"azureml-pipeline-steps\": \"1.48.0\", \"azureml-pipeline-core\": \"1.48.0\", \"azureml-opendatasets\": \"1.48.0\", \"azureml-mlflow\": \"1.48.0\", \"azureml-interpret\": \"1.48.0\", \"azureml-inference-server-http\": \"0.7.7\", \"azureml-explain-model\": \"1.48.0\", \"azureml-defaults\": \"1.48.0\", \"azureml-dataset-runtime\": \"1.48.0\", \"azureml-dataprep\": \"4.8.3\", \"azureml-dataprep-rslex\": \"2.15.1\", \"azureml-dataprep-native\": \"38.0.0\", \"azureml-datadrift\": \"1.48.0\", \"azureml-core\": \"1.48.0\", \"azureml-contrib-services\": \"1.48.0\", \"azureml-contrib-server\": \"1.48.0\", \"azureml-contrib-reinforcementlearning\": \"1.48.0\", \"azureml-contrib-pipeline-steps\": \"1.48.0\", \"azureml-contrib-notebook\": \"1.48.0\", \"azureml-contrib-fairness\": \"1.48.0\", \"azureml-contrib-dataset\": \"1.48.0\", \"azureml-contrib-automl-pipeline-steps\": \"1.48.0\", \"azureml-cli-common\": \"1.48.0\", \"azureml-automl-runtime\": \"1.48.0.post1\", \"azureml-automl-dnn-nlp\": \"1.48.0\", \"azureml-automl-core\": \"1.48.0\", \"azureml-accel-models\": \"1.48.0\"}',\n",
       "  '_aml_system_scenario_identification': 'Remote.Parent',\n",
       "  'ClientType': 'SDK',\n",
       "  'environment_cpu_name': 'AzureML-AutoML',\n",
       "  'environment_cpu_label': 'nimbus-deprecation',\n",
       "  'environment_gpu_name': 'AzureML-AutoML-GPU',\n",
       "  'environment_gpu_label': 'prod',\n",
       "  'root_attribution': 'automl',\n",
       "  'attribution': 'AutoML',\n",
       "  'Orchestrator': 'AutoML',\n",
       "  'CancelUri': 'https://southcentralus.api.azureml.ms/jasmine/v1.0/subscriptions/cdbe0b43-92a0-4715-838a-f2648cc7ad21/resourceGroups/aml-quickstarts-225458/providers/Microsoft.MachineLearningServices/workspaces/quick-starts-ws-225458/experimentids/cf532da8-955c-4e77-b9ea-4c560b7cb345/cancel/AutoML_559ccef3-9e95-4d1b-9201-2eef6bd98251',\n",
       "  'ClientSdkVersion': '1.48.0.post1',\n",
       "  'snapshotId': '00000000-0000-0000-0000-000000000000',\n",
       "  'SetupRunId': 'AutoML_559ccef3-9e95-4d1b-9201-2eef6bd98251_setup',\n",
       "  'SetupRunContainerId': 'dcid.AutoML_559ccef3-9e95-4d1b-9201-2eef6bd98251_setup',\n",
       "  'FeaturizationRunJsonPath': 'featurizer_container.json',\n",
       "  'FeaturizationRunId': 'AutoML_559ccef3-9e95-4d1b-9201-2eef6bd98251_featurize',\n",
       "  'ProblemInfoJsonString': '{\"dataset_num_categorical\": 0, \"is_sparse\": false, \"subsampling\": false, \"has_extra_col\": true, \"dataset_classes\": 2, \"dataset_features\": 12, \"dataset_samples\": 299, \"single_frequency_class_detected\": false}',\n",
       "  'ModelExplainRunId': 'AutoML_559ccef3-9e95-4d1b-9201-2eef6bd98251_ModelExplain'},\n",
       " 'inputDatasets': [{'dataset': {'id': 'fb69269d-ae81-4477-926d-eae93724225c'}, 'consumptionDetails': {'type': 'RunInput', 'inputName': 'training_data', 'mechanism': 'Direct'}}],\n",
       " 'outputDatasets': [{'identifier': {'savedId': '6d2372df-a2c4-4d2f-949d-4818241a4b8d'},\n",
       "   'outputType': 'RunOutput',\n",
       "   'outputDetails': {'outputName': 'full_training_dataset'},\n",
       "   'dataset': {\n",
       "     \"source\": [\n",
       "       \"('workspaceartifactstore', 'ExperimentRun/dcid.AutoML_559ccef3-9e95-4d1b-9201-2eef6bd98251/outputs/featurization/data/full_training_dataset.df.parquet')\"\n",
       "     ],\n",
       "     \"definition\": [\n",
       "       \"GetDatastoreFiles\",\n",
       "       \"ReadParquetFile\",\n",
       "       \"DropColumns\"\n",
       "     ],\n",
       "     \"registration\": {\n",
       "       \"id\": \"6d2372df-a2c4-4d2f-949d-4818241a4b8d\",\n",
       "       \"name\": null,\n",
       "       \"version\": null,\n",
       "       \"workspace\": \"Workspace.create(name='quick-starts-ws-225458', subscription_id='cdbe0b43-92a0-4715-838a-f2648cc7ad21', resource_group='aml-quickstarts-225458')\"\n",
       "     }\n",
       "   }}],\n",
       " 'logFiles': {},\n",
       " 'submittedBy': 'ODL_User 225458'}"
      ]
     },
     "execution_count": 8,
     "metadata": {},
     "output_type": "execute_result"
    }
   ],
   "source": [
    "# Showing the output might not work with the newest version of AzureML\n",
    "RunDetails(remote_run).show()\n",
    "remote_run.wait_for_completion(show_output=True)"
   ]
  },
  {
   "cell_type": "code",
   "execution_count": 25,
   "metadata": {},
   "outputs": [],
   "source": [
    "# Installing required packages\n",
    "!install --help\n",
    "import pip"
   ]
  },
  {
   "cell_type": "code",
   "execution_count": 27,
   "metadata": {},
   "outputs": [
    {
     "name": "stdout",
     "output_type": "stream",
     "text": [
      "install: unrecognized option '--upgrade'\r\n",
      "Try 'install --help' for more information.\r\n"
     ]
    }
   ],
   "source": [
    "# Installing required package\n",
    "\n",
    "! install --upgrade azureml-train-automl==1.21.0"
   ]
  },
  {
   "cell_type": "markdown",
   "metadata": {},
   "source": [
    "## Best Model\n",
    "\n",
    "TODO: In the cell below, get the best model from the automl experiments and display all the properties of the model.\n",
    "\n"
   ]
  },
  {
   "cell_type": "code",
   "execution_count": 10,
   "metadata": {
    "gather": {
     "logged": 1598431425670
    },
    "jupyter": {
     "outputs_hidden": false,
     "source_hidden": false
    },
    "nteract": {
     "transient": {
      "deleting": false
     }
    }
   },
   "outputs": [
    {
     "name": "stdout",
     "output_type": "stream",
     "text": [
      "Accuracy:  {'accuracy': 0.8761261261261261}\n"
     ]
    },
    {
     "ename": "PermissionError",
     "evalue": "[Errno 1] Operation not permitted: '/anaconda/envs/azureml_py38/lib/python3.8/site-packages/nimbusml/internal/libs/pybridge.so'",
     "output_type": "error",
     "traceback": [
      "\u001b[0;31m---------------------------------------------------------------------------\u001b[0m",
      "\u001b[0;31mPermissionError\u001b[0m                           Traceback (most recent call last)",
      "Cell \u001b[0;32mIn[10], line 4\u001b[0m\n\u001b[1;32m      1\u001b[0m \u001b[38;5;66;03m# Printing details of the best run\u001b[39;00m\n\u001b[1;32m      2\u001b[0m \u001b[38;5;28mprint\u001b[39m(\u001b[38;5;124m'\u001b[39m\u001b[38;5;124mAccuracy: \u001b[39m\u001b[38;5;124m'\u001b[39m, remote_run\u001b[38;5;241m.\u001b[39mget_metrics(\u001b[38;5;124m'\u001b[39m\u001b[38;5;124maccuracy\u001b[39m\u001b[38;5;124m'\u001b[39m))\n\u001b[0;32m----> 4\u001b[0m best_automl_run, best_automl_model \u001b[38;5;241m=\u001b[39m \u001b[43mremote_run\u001b[49m\u001b[38;5;241;43m.\u001b[39;49m\u001b[43mget_output\u001b[49m\u001b[43m(\u001b[49m\u001b[43m)\u001b[49m\n\u001b[1;32m      5\u001b[0m \u001b[38;5;28mprint\u001b[39m(\u001b[38;5;124m'\u001b[39m\u001b[38;5;130;01m\\n\u001b[39;00m\u001b[38;5;124m Best run: \u001b[39m\u001b[38;5;124m'\u001b[39m, best_automl_run)\n\u001b[1;32m      6\u001b[0m \u001b[38;5;28mprint\u001b[39m(\u001b[38;5;124m'\u001b[39m\u001b[38;5;130;01m\\n\u001b[39;00m\u001b[38;5;124m Model: \u001b[39m\u001b[38;5;124m'\u001b[39m, best_automl_model)\n",
      "File \u001b[0;32m/anaconda/envs/azureml_py38/lib/python3.8/site-packages/azureml/train/automl/run.py:718\u001b[0m, in \u001b[0;36mAutoMLRun.get_output\u001b[0;34m(self, iteration, metric, return_onnx_model, return_split_onnx_model, **kwargs)\u001b[0m\n\u001b[1;32m    716\u001b[0m         fitted_model \u001b[38;5;241m=\u001b[39m _download_automl_onnx_model(curr_run, model_name)\n\u001b[1;32m    717\u001b[0m     \u001b[38;5;28;01melse\u001b[39;00m:\n\u001b[0;32m--> 718\u001b[0m         fitted_model \u001b[38;5;241m=\u001b[39m \u001b[43m_download_automl_model\u001b[49m\u001b[43m(\u001b[49m\u001b[43mcurr_run\u001b[49m\u001b[43m,\u001b[49m\u001b[43m \u001b[49m\u001b[43mmodel_name\u001b[49m\u001b[43m)\u001b[49m\n\u001b[1;32m    720\u001b[0m \u001b[38;5;28;01mreturn\u001b[39;00m curr_run, fitted_model\n",
      "File \u001b[0;32m/anaconda/envs/azureml_py38/lib/python3.8/site-packages/azureml/train/automl/_model_download_utilities.py:80\u001b[0m, in \u001b[0;36m_download_automl_model\u001b[0;34m(run, model_name)\u001b[0m\n\u001b[1;32m     75\u001b[0m     \u001b[38;5;28;01mraise\u001b[39;00m ClientException(\u001b[38;5;28mstr\u001b[39m(e))\u001b[38;5;241m.\u001b[39mwith_generic_msg(\u001b[38;5;124m'\u001b[39m\u001b[38;5;124mDownloading AutoML model failed.\u001b[39m\u001b[38;5;124m'\u001b[39m) \u001b[38;5;28;01mfrom\u001b[39;00m \u001b[38;5;28mNone\u001b[39m\n\u001b[1;32m     77\u001b[0m \u001b[38;5;28;01mtry\u001b[39;00m:\n\u001b[1;32m     78\u001b[0m     \u001b[38;5;66;03m# Pass through any exceptions from loading the model.\u001b[39;00m\n\u001b[1;32m     79\u001b[0m     \u001b[38;5;66;03m# Try is used here to ensure we can cleanup the side effect of model downlad.\u001b[39;00m\n\u001b[0;32m---> 80\u001b[0m     model \u001b[38;5;241m=\u001b[39m \u001b[43m_load_automl_model\u001b[49m\u001b[43m(\u001b[49m\u001b[43mmodel_path\u001b[49m\u001b[43m,\u001b[49m\u001b[43m \u001b[49m\u001b[43msuffix\u001b[49m\u001b[43m)\u001b[49m\n\u001b[1;32m     81\u001b[0m     \u001b[38;5;28;01mif\u001b[39;00m model \u001b[38;5;129;01mis\u001b[39;00m \u001b[38;5;28;01mNone\u001b[39;00m:\n\u001b[1;32m     82\u001b[0m         \u001b[38;5;66;03m# If we can retrieve the automl runtime version, we do so we can inform the user what to install.\u001b[39;00m\n\u001b[1;32m     83\u001b[0m         \u001b[38;5;66;03m# Otherwise just tell them to install latest runtime version (this is not an expected scenario).\u001b[39;00m\n\u001b[1;32m     84\u001b[0m         automl_runtime_ver \u001b[38;5;241m=\u001b[39m azureml_run_deps\u001b[38;5;241m.\u001b[39mget(\u001b[38;5;124m\"\u001b[39m\u001b[38;5;124mazureml-train-automl-runtime\u001b[39m\u001b[38;5;124m\"\u001b[39m, \u001b[38;5;28;01mNone\u001b[39;00m)\n",
      "File \u001b[0;32m/anaconda/envs/azureml_py38/lib/python3.8/site-packages/azureml/train/automl/_model_download_utilities.py:172\u001b[0m, in \u001b[0;36m_load_automl_model\u001b[0;34m(model_path, suffix)\u001b[0m\n\u001b[1;32m    170\u001b[0m \u001b[38;5;28;01mif\u001b[39;00m \u001b[38;5;129;01mnot\u001b[39;00m is_torch_model:\n\u001b[1;32m    171\u001b[0m     \u001b[38;5;28;01mwith\u001b[39;00m \u001b[38;5;28mopen\u001b[39m(model_path, \u001b[38;5;124m\"\u001b[39m\u001b[38;5;124mrb\u001b[39m\u001b[38;5;124m\"\u001b[39m) \u001b[38;5;28;01mas\u001b[39;00m model_file:\n\u001b[0;32m--> 172\u001b[0m         fitted_model \u001b[38;5;241m=\u001b[39m \u001b[43mpickle\u001b[49m\u001b[38;5;241;43m.\u001b[39;49m\u001b[43mload\u001b[49m\u001b[43m(\u001b[49m\u001b[43mmodel_file\u001b[49m\u001b[43m)\u001b[49m  \u001b[38;5;66;03m# type: Optional[Any]\u001b[39;00m\n\u001b[1;32m    173\u001b[0m         \u001b[38;5;28;01mreturn\u001b[39;00m fitted_model\n\u001b[1;32m    174\u001b[0m \u001b[38;5;28;01melse\u001b[39;00m:\n\u001b[1;32m    175\u001b[0m     \u001b[38;5;66;03m# Load the torch model with pytorch.\u001b[39;00m\n",
      "File \u001b[0;32m/anaconda/envs/azureml_py38/lib/python3.8/site-packages/azureml/automl/runtime/featurization/__init__.py:8\u001b[0m\n\u001b[1;32m      4\u001b[0m \u001b[38;5;124;03m\"\"\"Init for featurization module.\"\"\"\u001b[39;00m\n\u001b[1;32m      7\u001b[0m \u001b[38;5;66;03m# Data transformer\u001b[39;00m\n\u001b[0;32m----> 8\u001b[0m \u001b[38;5;28;01mfrom\u001b[39;00m \u001b[38;5;21;01m.\u001b[39;00m\u001b[38;5;21;01mdata_transformer\u001b[39;00m \u001b[38;5;28;01mimport\u001b[39;00m DataTransformer, TransformerAndMapper\n\u001b[1;32m     11\u001b[0m \u001b[38;5;28;01mfrom\u001b[39;00m \u001b[38;5;21;01mazureml\u001b[39;00m\u001b[38;5;21;01m.\u001b[39;00m\u001b[38;5;21;01mautoml\u001b[39;00m\u001b[38;5;21;01m.\u001b[39;00m\u001b[38;5;21;01mruntime\u001b[39;00m\u001b[38;5;21;01m.\u001b[39;00m\u001b[38;5;21;01mfeaturization\u001b[39;00m\u001b[38;5;21;01m.\u001b[39;00m\u001b[38;5;21;01mstreaming\u001b[39;00m\u001b[38;5;21;01m.\u001b[39;00m\u001b[38;5;21;01mstreaming_featurizer\u001b[39;00m \u001b[38;5;28;01mimport\u001b[39;00m StreamingFeaturizer\n\u001b[1;32m     14\u001b[0m \u001b[38;5;28;01mfrom\u001b[39;00m \u001b[38;5;21;01m.\u001b[39;00m\u001b[38;5;21;01mfeaturizers\u001b[39;00m \u001b[38;5;28;01mimport\u001b[39;00m Featurizers\n",
      "File \u001b[0;32m/anaconda/envs/azureml_py38/lib/python3.8/site-packages/azureml/automl/runtime/featurization/data_transformer.py:56\u001b[0m\n\u001b[1;32m     54\u001b[0m \u001b[38;5;28;01mfrom\u001b[39;00m \u001b[38;5;21;01mazureml\u001b[39;00m\u001b[38;5;21;01m.\u001b[39;00m\u001b[38;5;21;01mautoml\u001b[39;00m\u001b[38;5;21;01m.\u001b[39;00m\u001b[38;5;21;01mruntime\u001b[39;00m\u001b[38;5;21;01m.\u001b[39;00m\u001b[38;5;21;01mfeaturization\u001b[39;00m \u001b[38;5;28;01mimport\u001b[39;00m data_transformer_utils\n\u001b[1;32m     55\u001b[0m \u001b[38;5;28;01mfrom\u001b[39;00m \u001b[38;5;21;01mazureml\u001b[39;00m\u001b[38;5;21;01m.\u001b[39;00m\u001b[38;5;21;01mautoml\u001b[39;00m\u001b[38;5;21;01m.\u001b[39;00m\u001b[38;5;21;01mruntime\u001b[39;00m\u001b[38;5;21;01m.\u001b[39;00m\u001b[38;5;21;01mfeaturization_info_provider\u001b[39;00m \u001b[38;5;28;01mimport\u001b[39;00m FeaturizationInfoProvider\n\u001b[0;32m---> 56\u001b[0m \u001b[38;5;28;01mfrom\u001b[39;00m \u001b[38;5;21;01mazureml\u001b[39;00m\u001b[38;5;21;01m.\u001b[39;00m\u001b[38;5;21;01mautoml\u001b[39;00m\u001b[38;5;21;01m.\u001b[39;00m\u001b[38;5;21;01mruntime\u001b[39;00m\u001b[38;5;21;01m.\u001b[39;00m\u001b[38;5;21;01mfeaturizer\u001b[39;00m\u001b[38;5;21;01m.\u001b[39;00m\u001b[38;5;21;01mtransformer\u001b[39;00m\u001b[38;5;21;01m.\u001b[39;00m\u001b[38;5;21;01mcategorical\u001b[39;00m \u001b[38;5;28;01mimport\u001b[39;00m LabelEncoderTransformer\n\u001b[1;32m     57\u001b[0m \u001b[38;5;28;01mfrom\u001b[39;00m \u001b[38;5;21;01mazureml\u001b[39;00m\u001b[38;5;21;01m.\u001b[39;00m\u001b[38;5;21;01mautoml\u001b[39;00m\u001b[38;5;21;01m.\u001b[39;00m\u001b[38;5;21;01mruntime\u001b[39;00m\u001b[38;5;21;01m.\u001b[39;00m\u001b[38;5;21;01mshared\u001b[39;00m \u001b[38;5;28;01mimport\u001b[39;00m memory_utilities, utilities \u001b[38;5;28;01mas\u001b[39;00m runtime_utilities\n\u001b[1;32m     58\u001b[0m \u001b[38;5;28;01mfrom\u001b[39;00m \u001b[38;5;21;01mazureml\u001b[39;00m\u001b[38;5;21;01m.\u001b[39;00m\u001b[38;5;21;01mautoml\u001b[39;00m\u001b[38;5;21;01m.\u001b[39;00m\u001b[38;5;21;01mruntime\u001b[39;00m\u001b[38;5;21;01m.\u001b[39;00m\u001b[38;5;21;01mshared\u001b[39;00m\u001b[38;5;21;01m.\u001b[39;00m\u001b[38;5;21;01mtypes\u001b[39;00m \u001b[38;5;28;01mimport\u001b[39;00m (\n\u001b[1;32m     59\u001b[0m     DataInputType,\n\u001b[1;32m     60\u001b[0m     DataSingleColumnInputType,\n\u001b[1;32m     61\u001b[0m     FeaturizationSummaryType,\n\u001b[1;32m     62\u001b[0m )\n",
      "File \u001b[0;32m/anaconda/envs/azureml_py38/lib/python3.8/site-packages/azureml/automl/runtime/featurizer/transformer/__init__.py:7\u001b[0m\n\u001b[1;32m      4\u001b[0m \u001b[38;5;124;03m\"\"\"Contains automated machine learning classes for transforming data in Azure Machine Learning.\"\"\"\u001b[39;00m\n\u001b[1;32m      6\u001b[0m \u001b[38;5;66;03m# Categorical\u001b[39;00m\n\u001b[0;32m----> 7\u001b[0m \u001b[38;5;28;01mfrom\u001b[39;00m \u001b[38;5;21;01m.\u001b[39;00m\u001b[38;5;21;01mcategorical\u001b[39;00m \u001b[38;5;28;01mimport\u001b[39;00m CategoricalFeaturizers, CatImputer, LabelEncoderTransformer, \\\n\u001b[1;32m      8\u001b[0m     HashOneHotVectorizerTransformer, OneHotEncoderTransformer\n\u001b[1;32m     10\u001b[0m \u001b[38;5;66;03m# Datetime\u001b[39;00m\n\u001b[1;32m     11\u001b[0m \u001b[38;5;28;01mfrom\u001b[39;00m \u001b[38;5;21;01m.\u001b[39;00m\u001b[38;5;21;01mdatetime\u001b[39;00m \u001b[38;5;28;01mimport\u001b[39;00m DateTimeFeaturesTransformer, DateTimeFeaturizers\n",
      "File \u001b[0;32m/anaconda/envs/azureml_py38/lib/python3.8/site-packages/azureml/automl/runtime/featurizer/transformer/categorical/__init__.py:7\u001b[0m\n\u001b[1;32m      5\u001b[0m \u001b[38;5;28;01mfrom\u001b[39;00m \u001b[38;5;21;01m.\u001b[39;00m\u001b[38;5;21;01mcat_imputer\u001b[39;00m \u001b[38;5;28;01mimport\u001b[39;00m CatImputer\n\u001b[1;32m      6\u001b[0m \u001b[38;5;28;01mfrom\u001b[39;00m \u001b[38;5;21;01m.\u001b[39;00m\u001b[38;5;21;01mhashonehotvectorizer_transformer\u001b[39;00m \u001b[38;5;28;01mimport\u001b[39;00m HashOneHotVectorizerTransformer\n\u001b[0;32m----> 7\u001b[0m \u001b[38;5;28;01mfrom\u001b[39;00m \u001b[38;5;21;01m.\u001b[39;00m\u001b[38;5;21;01mlabelencoder_transformer\u001b[39;00m \u001b[38;5;28;01mimport\u001b[39;00m LabelEncoderTransformer\n\u001b[1;32m      8\u001b[0m \u001b[38;5;28;01mfrom\u001b[39;00m \u001b[38;5;21;01m.\u001b[39;00m\u001b[38;5;21;01mcategorical_featurizers\u001b[39;00m \u001b[38;5;28;01mimport\u001b[39;00m CategoricalFeaturizers\n\u001b[1;32m      9\u001b[0m \u001b[38;5;28;01mfrom\u001b[39;00m \u001b[38;5;21;01m.\u001b[39;00m\u001b[38;5;21;01monehotencoder_transformer\u001b[39;00m \u001b[38;5;28;01mimport\u001b[39;00m OneHotEncoderTransformer\n",
      "File \u001b[0;32m/anaconda/envs/azureml_py38/lib/python3.8/site-packages/azureml/automl/runtime/featurizer/transformer/categorical/labelencoder_transformer.py:5\u001b[0m\n\u001b[1;32m      1\u001b[0m \u001b[38;5;66;03m# ---------------------------------------------------------\u001b[39;00m\n\u001b[1;32m      2\u001b[0m \u001b[38;5;66;03m# Copyright (c) Microsoft Corporation. All rights reserved.\u001b[39;00m\n\u001b[1;32m      3\u001b[0m \u001b[38;5;66;03m# ---------------------------------------------------------\u001b[39;00m\n\u001b[1;32m      4\u001b[0m \u001b[38;5;124;03m\"\"\"Transforms column using a label encoder to encode categories into numbers.\"\"\"\u001b[39;00m\n\u001b[0;32m----> 5\u001b[0m \u001b[38;5;28;01mfrom\u001b[39;00m \u001b[38;5;21;01mazureml\u001b[39;00m\u001b[38;5;21;01m.\u001b[39;00m\u001b[38;5;21;01mtraining\u001b[39;00m\u001b[38;5;21;01m.\u001b[39;00m\u001b[38;5;21;01mtabular\u001b[39;00m\u001b[38;5;21;01m.\u001b[39;00m\u001b[38;5;21;01mfeaturization\u001b[39;00m\u001b[38;5;21;01m.\u001b[39;00m\u001b[38;5;21;01mcategorical\u001b[39;00m\u001b[38;5;21;01m.\u001b[39;00m\u001b[38;5;21;01mlabelencoder_transformer\u001b[39;00m \u001b[38;5;28;01mimport\u001b[39;00m LabelEncoderTransformer\n",
      "File \u001b[0;32m/anaconda/envs/azureml_py38/lib/python3.8/site-packages/azureml/training/tabular/featurization/categorical/labelencoder_transformer.py:12\u001b[0m\n\u001b[1;32m     10\u001b[0m \u001b[38;5;28;01mfrom\u001b[39;00m \u001b[38;5;21;01mazureml\u001b[39;00m\u001b[38;5;21;01m.\u001b[39;00m\u001b[38;5;21;01mautoml\u001b[39;00m\u001b[38;5;21;01m.\u001b[39;00m\u001b[38;5;21;01mcore\u001b[39;00m\u001b[38;5;21;01m.\u001b[39;00m\u001b[38;5;21;01mshared\u001b[39;00m\u001b[38;5;21;01m.\u001b[39;00m\u001b[38;5;21;01mlogging_utilities\u001b[39;00m \u001b[38;5;28;01mimport\u001b[39;00m function_debug_log_wrapped\n\u001b[1;32m     11\u001b[0m \u001b[38;5;28;01mfrom\u001b[39;00m \u001b[38;5;21;01mazureml\u001b[39;00m\u001b[38;5;21;01m.\u001b[39;00m\u001b[38;5;21;01mautoml\u001b[39;00m\u001b[38;5;21;01m.\u001b[39;00m\u001b[38;5;21;01mcore\u001b[39;00m\u001b[38;5;21;01m.\u001b[39;00m\u001b[38;5;21;01mconstants\u001b[39;00m \u001b[38;5;28;01mimport\u001b[39;00m SupportedTransformersInternal \u001b[38;5;28;01mas\u001b[39;00m _SupportedTransformersInternal\n\u001b[0;32m---> 12\u001b[0m \u001b[38;5;28;01mfrom\u001b[39;00m \u001b[38;5;21;01m.\u001b[39;00m\u001b[38;5;21;01m.\u001b[39;00m\u001b[38;5;21;01m.\u001b[39;00m\u001b[38;5;21;01mmodels\u001b[39;00m\u001b[38;5;21;01m.\u001b[39;00m\u001b[38;5;21;01m_abstract_model_wrapper\u001b[39;00m \u001b[38;5;28;01mimport\u001b[39;00m _AbstractModelWrapper\n\u001b[1;32m     13\u001b[0m \u001b[38;5;28;01mfrom\u001b[39;00m \u001b[38;5;21;01m.\u001b[39;00m\u001b[38;5;21;01m.\u001b[39;00m\u001b[38;5;21;01m_azureml_transformer\u001b[39;00m \u001b[38;5;28;01mimport\u001b[39;00m AzureMLTransformer\n\u001b[1;32m     16\u001b[0m \u001b[38;5;28;01mclass\u001b[39;00m \u001b[38;5;21;01mLabelEncoderTransformer\u001b[39;00m(AzureMLTransformer, _AbstractModelWrapper):\n",
      "File \u001b[0;32m/anaconda/envs/azureml_py38/lib/python3.8/site-packages/azureml/training/tabular/models/__init__.py:6\u001b[0m\n\u001b[1;32m      4\u001b[0m \u001b[38;5;28;01mfrom\u001b[39;00m \u001b[38;5;21;01m.\u001b[39;00m\u001b[38;5;21;01m_abstract_model_wrapper\u001b[39;00m \u001b[38;5;28;01mimport\u001b[39;00m _AbstractModelWrapper\n\u001b[1;32m      5\u001b[0m \u001b[38;5;28;01mfrom\u001b[39;00m \u001b[38;5;21;01m.\u001b[39;00m\u001b[38;5;21;01mcalibrated_model\u001b[39;00m \u001b[38;5;28;01mimport\u001b[39;00m CalibratedModel\n\u001b[0;32m----> 6\u001b[0m \u001b[38;5;28;01mfrom\u001b[39;00m \u001b[38;5;21;01m.\u001b[39;00m\u001b[38;5;21;01mforecasting_pipeline_wrapper\u001b[39;00m \u001b[38;5;28;01mimport\u001b[39;00m RegressionPipeline, ForecastingPipelineWrapper\n\u001b[1;32m      7\u001b[0m \u001b[38;5;28;01mfrom\u001b[39;00m \u001b[38;5;21;01m.\u001b[39;00m\u001b[38;5;21;01mpipeline_with_ytransformations\u001b[39;00m \u001b[38;5;28;01mimport\u001b[39;00m PipelineWithYTransformations\n\u001b[1;32m      8\u001b[0m \u001b[38;5;28;01mfrom\u001b[39;00m \u001b[38;5;21;01m.\u001b[39;00m\u001b[38;5;21;01msparse_scale_zero_one\u001b[39;00m \u001b[38;5;28;01mimport\u001b[39;00m SparseScaleZeroOne\n",
      "File \u001b[0;32m/anaconda/envs/azureml_py38/lib/python3.8/site-packages/azureml/training/tabular/models/forecasting_pipeline_wrapper.py:10\u001b[0m\n\u001b[1;32m      7\u001b[0m \u001b[38;5;28;01mimport\u001b[39;00m \u001b[38;5;21;01muuid\u001b[39;00m\n\u001b[1;32m      8\u001b[0m \u001b[38;5;28;01mfrom\u001b[39;00m \u001b[38;5;21;01mtyping\u001b[39;00m \u001b[38;5;28;01mimport\u001b[39;00m Any, Dict, List, Optional, Tuple, Union, cast\n\u001b[0;32m---> 10\u001b[0m \u001b[38;5;28;01mimport\u001b[39;00m \u001b[38;5;21;01mnimbusml\u001b[39;00m\n\u001b[1;32m     11\u001b[0m \u001b[38;5;28;01mimport\u001b[39;00m \u001b[38;5;21;01mnumpy\u001b[39;00m \u001b[38;5;28;01mas\u001b[39;00m \u001b[38;5;21;01mnp\u001b[39;00m\n\u001b[1;32m     12\u001b[0m \u001b[38;5;28;01mimport\u001b[39;00m \u001b[38;5;21;01mpandas\u001b[39;00m \u001b[38;5;28;01mas\u001b[39;00m \u001b[38;5;21;01mpd\u001b[39;00m\n",
      "File \u001b[0;32m/anaconda/envs/azureml_py38/lib/python3.8/site-packages/nimbusml/__init__.py:33\u001b[0m\n\u001b[1;32m     31\u001b[0m     mode \u001b[38;5;241m=\u001b[39m \u001b[38;5;28moct\u001b[39m(os\u001b[38;5;241m.\u001b[39mstat(dotso)\u001b[38;5;241m.\u001b[39mst_mode \u001b[38;5;241m&\u001b[39m \u001b[38;5;241m0o777\u001b[39m)\n\u001b[1;32m     32\u001b[0m     \u001b[38;5;28;01mif\u001b[39;00m mode \u001b[38;5;241m!=\u001b[39m \u001b[38;5;124m\"\u001b[39m\u001b[38;5;124m0o755\u001b[39m\u001b[38;5;124m\"\u001b[39m:\n\u001b[0;32m---> 33\u001b[0m         \u001b[43mos\u001b[49m\u001b[38;5;241;43m.\u001b[39;49m\u001b[43mchmod\u001b[49m\u001b[43m(\u001b[49m\u001b[43mdotso\u001b[49m\u001b[43m,\u001b[49m\u001b[43m \u001b[49m\u001b[38;5;241;43m0o755\u001b[39;49m\u001b[43m)\u001b[49m\n\u001b[1;32m     35\u001b[0m \u001b[38;5;66;03m# clean up the package namespace\u001b[39;00m\n\u001b[1;32m     36\u001b[0m \u001b[38;5;28;01mdel\u001b[39;00m os, sys\n",
      "\u001b[0;31mPermissionError\u001b[0m: [Errno 1] Operation not permitted: '/anaconda/envs/azureml_py38/lib/python3.8/site-packages/nimbusml/internal/libs/pybridge.so'"
     ]
    }
   ],
   "source": [
    "# Printing details of the best run\n",
    "print('Accuracy: ', remote_run.get_metrics('accuracy'))\n",
    "\n",
    "best_automl_run, best_automl_model = remote_run.get_output()\n",
    "print('\\n Best run: ', best_automl_run)\n",
    "print('\\n Model: ', best_automl_model)\n",
    "print('\\n Best run details: ', best_automl_run.get_details())\n",
    "print('\\n Final estimator: ', best_automl_model._final_estimator)"
   ]
  },
  {
   "cell_type": "code",
   "execution_count": 28,
   "metadata": {},
   "outputs": [
    {
     "ename": "PermissionError",
     "evalue": "[Errno 1] Operation not permitted: '/anaconda/envs/azureml_py38/lib/python3.8/site-packages/nimbusml/internal/libs/pybridge.so'",
     "output_type": "error",
     "traceback": [
      "\u001b[0;31m---------------------------------------------------------------------------\u001b[0m",
      "\u001b[0;31mPermissionError\u001b[0m                           Traceback (most recent call last)",
      "Cell \u001b[0;32mIn[28], line 1\u001b[0m\n\u001b[0;32m----> 1\u001b[0m \u001b[43mremote_run\u001b[49m\u001b[38;5;241;43m.\u001b[39;49m\u001b[43mget_output\u001b[49m\u001b[43m(\u001b[49m\u001b[43m)\u001b[49m\n",
      "File \u001b[0;32m/anaconda/envs/azureml_py38/lib/python3.8/site-packages/azureml/train/automl/run.py:718\u001b[0m, in \u001b[0;36mAutoMLRun.get_output\u001b[0;34m(self, iteration, metric, return_onnx_model, return_split_onnx_model, **kwargs)\u001b[0m\n\u001b[1;32m    716\u001b[0m         fitted_model \u001b[38;5;241m=\u001b[39m _download_automl_onnx_model(curr_run, model_name)\n\u001b[1;32m    717\u001b[0m     \u001b[38;5;28;01melse\u001b[39;00m:\n\u001b[0;32m--> 718\u001b[0m         fitted_model \u001b[38;5;241m=\u001b[39m \u001b[43m_download_automl_model\u001b[49m\u001b[43m(\u001b[49m\u001b[43mcurr_run\u001b[49m\u001b[43m,\u001b[49m\u001b[43m \u001b[49m\u001b[43mmodel_name\u001b[49m\u001b[43m)\u001b[49m\n\u001b[1;32m    720\u001b[0m \u001b[38;5;28;01mreturn\u001b[39;00m curr_run, fitted_model\n",
      "File \u001b[0;32m/anaconda/envs/azureml_py38/lib/python3.8/site-packages/azureml/train/automl/_model_download_utilities.py:80\u001b[0m, in \u001b[0;36m_download_automl_model\u001b[0;34m(run, model_name)\u001b[0m\n\u001b[1;32m     75\u001b[0m     \u001b[38;5;28;01mraise\u001b[39;00m ClientException(\u001b[38;5;28mstr\u001b[39m(e))\u001b[38;5;241m.\u001b[39mwith_generic_msg(\u001b[38;5;124m'\u001b[39m\u001b[38;5;124mDownloading AutoML model failed.\u001b[39m\u001b[38;5;124m'\u001b[39m) \u001b[38;5;28;01mfrom\u001b[39;00m \u001b[38;5;28mNone\u001b[39m\n\u001b[1;32m     77\u001b[0m \u001b[38;5;28;01mtry\u001b[39;00m:\n\u001b[1;32m     78\u001b[0m     \u001b[38;5;66;03m# Pass through any exceptions from loading the model.\u001b[39;00m\n\u001b[1;32m     79\u001b[0m     \u001b[38;5;66;03m# Try is used here to ensure we can cleanup the side effect of model downlad.\u001b[39;00m\n\u001b[0;32m---> 80\u001b[0m     model \u001b[38;5;241m=\u001b[39m \u001b[43m_load_automl_model\u001b[49m\u001b[43m(\u001b[49m\u001b[43mmodel_path\u001b[49m\u001b[43m,\u001b[49m\u001b[43m \u001b[49m\u001b[43msuffix\u001b[49m\u001b[43m)\u001b[49m\n\u001b[1;32m     81\u001b[0m     \u001b[38;5;28;01mif\u001b[39;00m model \u001b[38;5;129;01mis\u001b[39;00m \u001b[38;5;28;01mNone\u001b[39;00m:\n\u001b[1;32m     82\u001b[0m         \u001b[38;5;66;03m# If we can retrieve the automl runtime version, we do so we can inform the user what to install.\u001b[39;00m\n\u001b[1;32m     83\u001b[0m         \u001b[38;5;66;03m# Otherwise just tell them to install latest runtime version (this is not an expected scenario).\u001b[39;00m\n\u001b[1;32m     84\u001b[0m         automl_runtime_ver \u001b[38;5;241m=\u001b[39m azureml_run_deps\u001b[38;5;241m.\u001b[39mget(\u001b[38;5;124m\"\u001b[39m\u001b[38;5;124mazureml-train-automl-runtime\u001b[39m\u001b[38;5;124m\"\u001b[39m, \u001b[38;5;28;01mNone\u001b[39;00m)\n",
      "File \u001b[0;32m/anaconda/envs/azureml_py38/lib/python3.8/site-packages/azureml/train/automl/_model_download_utilities.py:172\u001b[0m, in \u001b[0;36m_load_automl_model\u001b[0;34m(model_path, suffix)\u001b[0m\n\u001b[1;32m    170\u001b[0m \u001b[38;5;28;01mif\u001b[39;00m \u001b[38;5;129;01mnot\u001b[39;00m is_torch_model:\n\u001b[1;32m    171\u001b[0m     \u001b[38;5;28;01mwith\u001b[39;00m \u001b[38;5;28mopen\u001b[39m(model_path, \u001b[38;5;124m\"\u001b[39m\u001b[38;5;124mrb\u001b[39m\u001b[38;5;124m\"\u001b[39m) \u001b[38;5;28;01mas\u001b[39;00m model_file:\n\u001b[0;32m--> 172\u001b[0m         fitted_model \u001b[38;5;241m=\u001b[39m \u001b[43mpickle\u001b[49m\u001b[38;5;241;43m.\u001b[39;49m\u001b[43mload\u001b[49m\u001b[43m(\u001b[49m\u001b[43mmodel_file\u001b[49m\u001b[43m)\u001b[49m  \u001b[38;5;66;03m# type: Optional[Any]\u001b[39;00m\n\u001b[1;32m    173\u001b[0m         \u001b[38;5;28;01mreturn\u001b[39;00m fitted_model\n\u001b[1;32m    174\u001b[0m \u001b[38;5;28;01melse\u001b[39;00m:\n\u001b[1;32m    175\u001b[0m     \u001b[38;5;66;03m# Load the torch model with pytorch.\u001b[39;00m\n",
      "File \u001b[0;32m/anaconda/envs/azureml_py38/lib/python3.8/site-packages/azureml/automl/runtime/featurization/__init__.py:8\u001b[0m\n\u001b[1;32m      4\u001b[0m \u001b[38;5;124;03m\"\"\"Init for featurization module.\"\"\"\u001b[39;00m\n\u001b[1;32m      7\u001b[0m \u001b[38;5;66;03m# Data transformer\u001b[39;00m\n\u001b[0;32m----> 8\u001b[0m \u001b[38;5;28;01mfrom\u001b[39;00m \u001b[38;5;21;01m.\u001b[39;00m\u001b[38;5;21;01mdata_transformer\u001b[39;00m \u001b[38;5;28;01mimport\u001b[39;00m DataTransformer, TransformerAndMapper\n\u001b[1;32m     11\u001b[0m \u001b[38;5;28;01mfrom\u001b[39;00m \u001b[38;5;21;01mazureml\u001b[39;00m\u001b[38;5;21;01m.\u001b[39;00m\u001b[38;5;21;01mautoml\u001b[39;00m\u001b[38;5;21;01m.\u001b[39;00m\u001b[38;5;21;01mruntime\u001b[39;00m\u001b[38;5;21;01m.\u001b[39;00m\u001b[38;5;21;01mfeaturization\u001b[39;00m\u001b[38;5;21;01m.\u001b[39;00m\u001b[38;5;21;01mstreaming\u001b[39;00m\u001b[38;5;21;01m.\u001b[39;00m\u001b[38;5;21;01mstreaming_featurizer\u001b[39;00m \u001b[38;5;28;01mimport\u001b[39;00m StreamingFeaturizer\n\u001b[1;32m     14\u001b[0m \u001b[38;5;28;01mfrom\u001b[39;00m \u001b[38;5;21;01m.\u001b[39;00m\u001b[38;5;21;01mfeaturizers\u001b[39;00m \u001b[38;5;28;01mimport\u001b[39;00m Featurizers\n",
      "File \u001b[0;32m/anaconda/envs/azureml_py38/lib/python3.8/site-packages/azureml/automl/runtime/featurization/data_transformer.py:56\u001b[0m\n\u001b[1;32m     54\u001b[0m \u001b[38;5;28;01mfrom\u001b[39;00m \u001b[38;5;21;01mazureml\u001b[39;00m\u001b[38;5;21;01m.\u001b[39;00m\u001b[38;5;21;01mautoml\u001b[39;00m\u001b[38;5;21;01m.\u001b[39;00m\u001b[38;5;21;01mruntime\u001b[39;00m\u001b[38;5;21;01m.\u001b[39;00m\u001b[38;5;21;01mfeaturization\u001b[39;00m \u001b[38;5;28;01mimport\u001b[39;00m data_transformer_utils\n\u001b[1;32m     55\u001b[0m \u001b[38;5;28;01mfrom\u001b[39;00m \u001b[38;5;21;01mazureml\u001b[39;00m\u001b[38;5;21;01m.\u001b[39;00m\u001b[38;5;21;01mautoml\u001b[39;00m\u001b[38;5;21;01m.\u001b[39;00m\u001b[38;5;21;01mruntime\u001b[39;00m\u001b[38;5;21;01m.\u001b[39;00m\u001b[38;5;21;01mfeaturization_info_provider\u001b[39;00m \u001b[38;5;28;01mimport\u001b[39;00m FeaturizationInfoProvider\n\u001b[0;32m---> 56\u001b[0m \u001b[38;5;28;01mfrom\u001b[39;00m \u001b[38;5;21;01mazureml\u001b[39;00m\u001b[38;5;21;01m.\u001b[39;00m\u001b[38;5;21;01mautoml\u001b[39;00m\u001b[38;5;21;01m.\u001b[39;00m\u001b[38;5;21;01mruntime\u001b[39;00m\u001b[38;5;21;01m.\u001b[39;00m\u001b[38;5;21;01mfeaturizer\u001b[39;00m\u001b[38;5;21;01m.\u001b[39;00m\u001b[38;5;21;01mtransformer\u001b[39;00m\u001b[38;5;21;01m.\u001b[39;00m\u001b[38;5;21;01mcategorical\u001b[39;00m \u001b[38;5;28;01mimport\u001b[39;00m LabelEncoderTransformer\n\u001b[1;32m     57\u001b[0m \u001b[38;5;28;01mfrom\u001b[39;00m \u001b[38;5;21;01mazureml\u001b[39;00m\u001b[38;5;21;01m.\u001b[39;00m\u001b[38;5;21;01mautoml\u001b[39;00m\u001b[38;5;21;01m.\u001b[39;00m\u001b[38;5;21;01mruntime\u001b[39;00m\u001b[38;5;21;01m.\u001b[39;00m\u001b[38;5;21;01mshared\u001b[39;00m \u001b[38;5;28;01mimport\u001b[39;00m memory_utilities, utilities \u001b[38;5;28;01mas\u001b[39;00m runtime_utilities\n\u001b[1;32m     58\u001b[0m \u001b[38;5;28;01mfrom\u001b[39;00m \u001b[38;5;21;01mazureml\u001b[39;00m\u001b[38;5;21;01m.\u001b[39;00m\u001b[38;5;21;01mautoml\u001b[39;00m\u001b[38;5;21;01m.\u001b[39;00m\u001b[38;5;21;01mruntime\u001b[39;00m\u001b[38;5;21;01m.\u001b[39;00m\u001b[38;5;21;01mshared\u001b[39;00m\u001b[38;5;21;01m.\u001b[39;00m\u001b[38;5;21;01mtypes\u001b[39;00m \u001b[38;5;28;01mimport\u001b[39;00m (\n\u001b[1;32m     59\u001b[0m     DataInputType,\n\u001b[1;32m     60\u001b[0m     DataSingleColumnInputType,\n\u001b[1;32m     61\u001b[0m     FeaturizationSummaryType,\n\u001b[1;32m     62\u001b[0m )\n",
      "File \u001b[0;32m/anaconda/envs/azureml_py38/lib/python3.8/site-packages/azureml/automl/runtime/featurizer/transformer/__init__.py:7\u001b[0m\n\u001b[1;32m      4\u001b[0m \u001b[38;5;124;03m\"\"\"Contains automated machine learning classes for transforming data in Azure Machine Learning.\"\"\"\u001b[39;00m\n\u001b[1;32m      6\u001b[0m \u001b[38;5;66;03m# Categorical\u001b[39;00m\n\u001b[0;32m----> 7\u001b[0m \u001b[38;5;28;01mfrom\u001b[39;00m \u001b[38;5;21;01m.\u001b[39;00m\u001b[38;5;21;01mcategorical\u001b[39;00m \u001b[38;5;28;01mimport\u001b[39;00m CategoricalFeaturizers, CatImputer, LabelEncoderTransformer, \\\n\u001b[1;32m      8\u001b[0m     HashOneHotVectorizerTransformer, OneHotEncoderTransformer\n\u001b[1;32m     10\u001b[0m \u001b[38;5;66;03m# Datetime\u001b[39;00m\n\u001b[1;32m     11\u001b[0m \u001b[38;5;28;01mfrom\u001b[39;00m \u001b[38;5;21;01m.\u001b[39;00m\u001b[38;5;21;01mdatetime\u001b[39;00m \u001b[38;5;28;01mimport\u001b[39;00m DateTimeFeaturesTransformer, DateTimeFeaturizers\n",
      "File \u001b[0;32m/anaconda/envs/azureml_py38/lib/python3.8/site-packages/azureml/automl/runtime/featurizer/transformer/categorical/__init__.py:8\u001b[0m\n\u001b[1;32m      6\u001b[0m \u001b[38;5;28;01mfrom\u001b[39;00m \u001b[38;5;21;01m.\u001b[39;00m\u001b[38;5;21;01mhashonehotvectorizer_transformer\u001b[39;00m \u001b[38;5;28;01mimport\u001b[39;00m HashOneHotVectorizerTransformer\n\u001b[1;32m      7\u001b[0m \u001b[38;5;28;01mfrom\u001b[39;00m \u001b[38;5;21;01m.\u001b[39;00m\u001b[38;5;21;01mlabelencoder_transformer\u001b[39;00m \u001b[38;5;28;01mimport\u001b[39;00m LabelEncoderTransformer\n\u001b[0;32m----> 8\u001b[0m \u001b[38;5;28;01mfrom\u001b[39;00m \u001b[38;5;21;01m.\u001b[39;00m\u001b[38;5;21;01mcategorical_featurizers\u001b[39;00m \u001b[38;5;28;01mimport\u001b[39;00m CategoricalFeaturizers\n\u001b[1;32m      9\u001b[0m \u001b[38;5;28;01mfrom\u001b[39;00m \u001b[38;5;21;01m.\u001b[39;00m\u001b[38;5;21;01monehotencoder_transformer\u001b[39;00m \u001b[38;5;28;01mimport\u001b[39;00m OneHotEncoderTransformer\n",
      "File \u001b[0;32m/anaconda/envs/azureml_py38/lib/python3.8/site-packages/azureml/automl/runtime/featurizer/transformer/categorical/categorical_featurizers.py:8\u001b[0m\n\u001b[1;32m      6\u001b[0m \u001b[38;5;28;01mimport\u001b[39;00m \u001b[38;5;21;01mnumpy\u001b[39;00m \u001b[38;5;28;01mas\u001b[39;00m \u001b[38;5;21;01mnp\u001b[39;00m\n\u001b[1;32m      7\u001b[0m \u001b[38;5;28;01mfrom\u001b[39;00m \u001b[38;5;21;01mazureml\u001b[39;00m\u001b[38;5;21;01m.\u001b[39;00m\u001b[38;5;21;01mautoml\u001b[39;00m\u001b[38;5;21;01m.\u001b[39;00m\u001b[38;5;21;01mcore\u001b[39;00m\u001b[38;5;21;01m.\u001b[39;00m\u001b[38;5;21;01mconstants\u001b[39;00m \u001b[38;5;28;01mimport\u001b[39;00m _OperatorNames\n\u001b[0;32m----> 8\u001b[0m \u001b[38;5;28;01mfrom\u001b[39;00m \u001b[38;5;21;01mnimbusml\u001b[39;00m\u001b[38;5;21;01m.\u001b[39;00m\u001b[38;5;21;01mfeature_extraction\u001b[39;00m\u001b[38;5;21;01m.\u001b[39;00m\u001b[38;5;21;01mcategorical\u001b[39;00m \u001b[38;5;28;01mimport\u001b[39;00m OneHotVectorizer \u001b[38;5;28;01mas\u001b[39;00m NimbusMLOneHotVectorizer\n\u001b[1;32m      9\u001b[0m \u001b[38;5;28;01mfrom\u001b[39;00m \u001b[38;5;21;01mnimbusml\u001b[39;00m\u001b[38;5;21;01m.\u001b[39;00m\u001b[38;5;21;01mfeature_extraction\u001b[39;00m\u001b[38;5;21;01m.\u001b[39;00m\u001b[38;5;21;01mcategorical\u001b[39;00m \u001b[38;5;28;01mimport\u001b[39;00m OneHotHashVectorizer \u001b[38;5;28;01mas\u001b[39;00m NimbusMLOneHotHashVectorizer\n\u001b[1;32m     11\u001b[0m \u001b[38;5;28;01mfrom\u001b[39;00m \u001b[38;5;21;01m.\u001b[39;00m\u001b[38;5;21;01m.\u001b[39;00m\u001b[38;5;21;01mgeneric\u001b[39;00m\u001b[38;5;21;01m.\u001b[39;00m\u001b[38;5;21;01mcountbased_target_encoder\u001b[39;00m \u001b[38;5;28;01mimport\u001b[39;00m CountBasedTargetEncoder\n",
      "File \u001b[0;32m/anaconda/envs/azureml_py38/lib/python3.8/site-packages/nimbusml/__init__.py:33\u001b[0m\n\u001b[1;32m     31\u001b[0m     mode \u001b[38;5;241m=\u001b[39m \u001b[38;5;28moct\u001b[39m(os\u001b[38;5;241m.\u001b[39mstat(dotso)\u001b[38;5;241m.\u001b[39mst_mode \u001b[38;5;241m&\u001b[39m \u001b[38;5;241m0o777\u001b[39m)\n\u001b[1;32m     32\u001b[0m     \u001b[38;5;28;01mif\u001b[39;00m mode \u001b[38;5;241m!=\u001b[39m \u001b[38;5;124m\"\u001b[39m\u001b[38;5;124m0o755\u001b[39m\u001b[38;5;124m\"\u001b[39m:\n\u001b[0;32m---> 33\u001b[0m         \u001b[43mos\u001b[49m\u001b[38;5;241;43m.\u001b[39;49m\u001b[43mchmod\u001b[49m\u001b[43m(\u001b[49m\u001b[43mdotso\u001b[49m\u001b[43m,\u001b[49m\u001b[43m \u001b[49m\u001b[38;5;241;43m0o755\u001b[39;49m\u001b[43m)\u001b[49m\n\u001b[1;32m     35\u001b[0m \u001b[38;5;66;03m# clean up the package namespace\u001b[39;00m\n\u001b[1;32m     36\u001b[0m \u001b[38;5;28;01mdel\u001b[39;00m os, sys\n",
      "\u001b[0;31mPermissionError\u001b[0m: [Errno 1] Operation not permitted: '/anaconda/envs/azureml_py38/lib/python3.8/site-packages/nimbusml/internal/libs/pybridge.so'"
     ]
    }
   ],
   "source": [
    "remote_run.get_output()"
   ]
  },
  {
   "cell_type": "code",
   "execution_count": null,
   "metadata": {
    "gather": {
     "logged": 1598431426111
    },
    "jupyter": {
     "outputs_hidden": false,
     "source_hidden": false
    },
    "nteract": {
     "transient": {
      "deleting": false
     }
    }
   },
   "outputs": [],
   "source": [
    "# Save your best automl model\n",
    "# when not working save it as joblib file\n",
    "joblib.dump(best_automl_run, 'best-automl-run.pkl')\n",
    "joblib.dump(best_automl_model, 'best-automl-model.pkl')"
   ]
  },
  {
   "cell_type": "markdown",
   "metadata": {},
   "source": [
    "## Model Deployment\n",
    "\n",
    "Remember you have to deploy only one of the two models you trained but you still need to register both the models. Perform the steps in the rest of this notebook only if you wish to deploy this model.\n",
    "\n",
    "TODO: In the cell below, register the model, create an inference config and deploy the model as a web service."
   ]
  },
  {
   "cell_type": "code",
   "execution_count": null,
   "metadata": {
    "gather": {
     "logged": 1598431435189
    },
    "jupyter": {
     "outputs_hidden": false,
     "source_hidden": false
    },
    "nteract": {
     "transient": {
      "deleting": false
     }
    }
   },
   "outputs": [],
   "source": [
    "# Can be done in Azure ML Workspace but here within the notebook\n",
    "model = Model.register(\n",
    "    workspace=ws,\n",
    "    model_name = \"best-automl-model\", \n",
    "    model_path = './best-automl-model.pkl')\n",
    "#best_run.download_file(constants.CONDA_ENV_FILE_PATH, 'myenv.yml')\n",
    "print(model.name, model.id, model.version, sep='\\t')"
   ]
  },
  {
   "cell_type": "code",
   "execution_count": null,
   "metadata": {},
   "outputs": [],
   "source": [
    "# Setup environment for your training run\n",
    "sklearn_env = Environment.from_conda_specification(\n",
    "    name='sklearn-env', \n",
    "    file_path='conda_dependencies.yml'\n",
    ")\n",
    "inference_config = InferenceConfig(\n",
    "    entry_script='score_automl.py', \n",
    "    environment=env\n",
    ")\n",
    "\n",
    "aci_config = AciWebservice.deploy_configuration(\n",
    "    cpu_cores=1, \n",
    "    memory_gb=1, \n",
    "    auth_enabled=True,\n",
    "    tags = {'name':'failure Prediction'},\n",
    "    description='Heart failure prediction model'\n",
    "    )\n",
    "\n",
    "service = model.deploy(\n",
    "    workspace=ws,\n",
    "    name=\"automl-deploy\",\n",
    "    models=[model],\n",
    "    inference_config=inference_config,\n",
    "    deployment_config=aci_config\n",
    "    )\n",
    "\n",
    "service.wait_for_deployment(show_output=True)"
   ]
  },
  {
   "cell_type": "code",
   "execution_count": null,
   "metadata": {},
   "outputs": [],
   "source": [
    "# Enable Logging and check state\n",
    "service.update(enable_app_insights=True)\n",
    "print(service.state)"
   ]
  },
  {
   "cell_type": "markdown",
   "metadata": {
    "collapsed": true,
    "gather": {
     "logged": 1598431657736
    },
    "jupyter": {
     "outputs_hidden": false,
     "source_hidden": false
    },
    "nteract": {
     "transient": {
      "deleting": false
     }
    }
   },
   "source": [
    "TODO: In the cell below, send a request to the web service you deployed to test it."
   ]
  },
  {
   "cell_type": "code",
   "execution_count": 37,
   "metadata": {
    "gather": {
     "logged": 1598432707604
    },
    "jupyter": {
     "outputs_hidden": false,
     "source_hidden": false
    },
    "nteract": {
     "transient": {
      "deleting": false
     }
    }
   },
   "outputs": [
    {
     "name": "stdout",
     "output_type": "stream",
     "text": [
      "prediction  {'Results': [1]}\n"
     ]
    }
   ],
   "source": [
    "import json\n",
    "import requests\n",
    "\n",
    "# URL for the web service\n",
    "scoring_uri = 'http://5c8bdafc-fac6-4311-b18e-9eb76bf2a0ef.southcentralus.azurecontainer.io/score'\n",
    "# If the service is authenticated, set the key or token\n",
    "key = '7ldzUaLT6rCcdn1Jx9VoY2lhkdkLJvAk'\n",
    "\n",
    "data = {\n",
    "      \"Inputs\": {\n",
    "        \"data\": [\n",
    "          {\n",
    "            \"age\": 25,\n",
    "            \"anaemia\": 0,\n",
    "            \"creatinine_phosphokinase\": 582,\n",
    "            \"diabetes\": 0,\n",
    "            \"ejection_fraction\": 20,\n",
    "            \"high_blood_pressure\": 0,\n",
    "            \"platelets\": 265000,\n",
    "            \"serum_creatinine\": 1.9,\n",
    "            \"serum_sodium\": 130,\n",
    "            \"sex\": 1,\n",
    "            \"smoking\": 1,\n",
    "            \"time\": 4\n",
    "          }\n",
    "        ]\n",
    "      },\n",
    "      \"GlobalParameters\": {\n",
    "        \"method\": \"predict\"\n",
    "      }\n",
    "    }\n",
    "# Convert to JSON string\n",
    "input_data = json.dumps(data)\n",
    "##output = service.run(input_data)\n",
    "\n",
    "# Set the content type\n",
    "headers = {'Content-Type': 'application/json'}\n",
    "\n",
    "# If authentication is enabled, set the authorization header\n",
    "headers['Authorization'] = f'Bearer {key}'\n",
    "\n",
    "# Make the request and display the response\n",
    "resp = requests.post(\n",
    "    scoring_uri, \n",
    "    input_data, \n",
    "    headers=headers\n",
    "    )\n",
    "    \n",
    "print(\"prediction \", resp.json())"
   ]
  },
  {
   "cell_type": "raw",
   "metadata": {},
   "source": []
  },
  {
   "cell_type": "markdown",
   "metadata": {
    "collapsed": true,
    "gather": {
     "logged": 1598432765711
    },
    "jupyter": {
     "outputs_hidden": false,
     "source_hidden": false
    },
    "nteract": {
     "transient": {
      "deleting": false
     }
    }
   },
   "source": [
    "TODO: In the cell below, print the logs of the web service and delete the service"
   ]
  },
  {
   "cell_type": "code",
   "execution_count": 39,
   "metadata": {
    "jupyter": {
     "outputs_hidden": false,
     "source_hidden": false
    },
    "nteract": {
     "transient": {
      "deleting": false
     }
    }
   },
   "outputs": [
    {
     "name": "stdout",
     "output_type": "stream",
     "text": [
      "Current provisioning state of AmlCompute is \"Deleting\"\n",
      "\n"
     ]
    }
   ],
   "source": [
    "compute_cluster.delete()"
   ]
  },
  {
   "cell_type": "markdown",
   "metadata": {},
   "source": [
    "**Submission Checklist**\n",
    "- I have registered the model.\n",
    "- I have deployed the model with the best accuracy as a webservice.\n",
    "- I have tested the webservice by sending a request to the model endpoint.\n",
    "- I have deleted the webservice and shutdown all the computes that I have used.\n",
    "- I have taken a screenshot showing the model endpoint as active.\n",
    "- The project includes a file containing the environment details.\n"
   ]
  },
  {
   "cell_type": "markdown",
   "metadata": {},
   "source": []
  }
 ],
 "metadata": {
  "kernel_info": {
   "name": "python3-azureml"
  },
  "kernelspec": {
   "display_name": "Python 3.8 - AzureML",
   "language": "python",
   "name": "python38-azureml"
  },
  "language_info": {
   "codemirror_mode": {
    "name": "ipython",
    "version": 3
   },
   "file_extension": ".py",
   "mimetype": "text/x-python",
   "name": "python",
   "nbconvert_exporter": "python",
   "pygments_lexer": "ipython3",
   "version": "3.8.10"
  },
  "nteract": {
   "version": "nteract-front-end@1.0.0"
  }
 },
 "nbformat": 4,
 "nbformat_minor": 2
}
